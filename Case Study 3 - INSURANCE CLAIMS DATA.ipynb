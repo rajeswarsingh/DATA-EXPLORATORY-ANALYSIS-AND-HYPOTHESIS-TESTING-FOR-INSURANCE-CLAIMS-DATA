{
 "cells": [
  {
   "cell_type": "code",
   "execution_count": 225,
   "id": "a43f0f21",
   "metadata": {},
   "outputs": [],
   "source": [
    "import pandas as pd\n",
    "import numpy as np\n",
    "import datetime as dt\n",
    "import matplotlib.pyplot as plt\n",
    "import seaborn as sns"
   ]
  },
  {
   "cell_type": "code",
   "execution_count": 226,
   "id": "c87e90df",
   "metadata": {},
   "outputs": [],
   "source": [
    "claims=pd.read_csv('claims.csv')"
   ]
  },
  {
   "cell_type": "code",
   "execution_count": 227,
   "id": "a040c8ae",
   "metadata": {},
   "outputs": [
    {
     "data": {
      "text/html": [
       "<div>\n",
       "<style scoped>\n",
       "    .dataframe tbody tr th:only-of-type {\n",
       "        vertical-align: middle;\n",
       "    }\n",
       "\n",
       "    .dataframe tbody tr th {\n",
       "        vertical-align: top;\n",
       "    }\n",
       "\n",
       "    .dataframe thead th {\n",
       "        text-align: right;\n",
       "    }\n",
       "</style>\n",
       "<table border=\"1\" class=\"dataframe\">\n",
       "  <thead>\n",
       "    <tr style=\"text-align: right;\">\n",
       "      <th></th>\n",
       "      <th>claim_id</th>\n",
       "      <th>customer_id</th>\n",
       "      <th>incident_cause</th>\n",
       "      <th>claim_date</th>\n",
       "      <th>claim_area</th>\n",
       "      <th>police_report</th>\n",
       "      <th>claim_type</th>\n",
       "      <th>claim_amount</th>\n",
       "      <th>total_policy_claims</th>\n",
       "      <th>fraudulent</th>\n",
       "    </tr>\n",
       "  </thead>\n",
       "  <tbody>\n",
       "    <tr>\n",
       "      <th>0</th>\n",
       "      <td>54004764</td>\n",
       "      <td>21868593</td>\n",
       "      <td>Driver error</td>\n",
       "      <td>11/27/2017</td>\n",
       "      <td>Auto</td>\n",
       "      <td>No</td>\n",
       "      <td>Material only</td>\n",
       "      <td>$2980</td>\n",
       "      <td>1.0</td>\n",
       "      <td>No</td>\n",
       "    </tr>\n",
       "    <tr>\n",
       "      <th>1</th>\n",
       "      <td>33985796</td>\n",
       "      <td>75740424</td>\n",
       "      <td>Crime</td>\n",
       "      <td>10/03/2018</td>\n",
       "      <td>Home</td>\n",
       "      <td>Unknown</td>\n",
       "      <td>Material only</td>\n",
       "      <td>$2980</td>\n",
       "      <td>3.0</td>\n",
       "      <td>No</td>\n",
       "    </tr>\n",
       "    <tr>\n",
       "      <th>2</th>\n",
       "      <td>53522022</td>\n",
       "      <td>30308357</td>\n",
       "      <td>Other driver error</td>\n",
       "      <td>02/02/2018</td>\n",
       "      <td>Auto</td>\n",
       "      <td>No</td>\n",
       "      <td>Material only</td>\n",
       "      <td>$3369.5</td>\n",
       "      <td>1.0</td>\n",
       "      <td>Yes</td>\n",
       "    </tr>\n",
       "    <tr>\n",
       "      <th>3</th>\n",
       "      <td>13015401</td>\n",
       "      <td>47830476</td>\n",
       "      <td>Natural causes</td>\n",
       "      <td>06/17/2018</td>\n",
       "      <td>Auto</td>\n",
       "      <td>No</td>\n",
       "      <td>Material only</td>\n",
       "      <td>$1680</td>\n",
       "      <td>1.0</td>\n",
       "      <td>No</td>\n",
       "    </tr>\n",
       "    <tr>\n",
       "      <th>4</th>\n",
       "      <td>22890252</td>\n",
       "      <td>19269962</td>\n",
       "      <td>Crime</td>\n",
       "      <td>01/13/2018</td>\n",
       "      <td>Auto</td>\n",
       "      <td>No</td>\n",
       "      <td>Material only</td>\n",
       "      <td>$2680</td>\n",
       "      <td>1.0</td>\n",
       "      <td>No</td>\n",
       "    </tr>\n",
       "    <tr>\n",
       "      <th>...</th>\n",
       "      <td>...</td>\n",
       "      <td>...</td>\n",
       "      <td>...</td>\n",
       "      <td>...</td>\n",
       "      <td>...</td>\n",
       "      <td>...</td>\n",
       "      <td>...</td>\n",
       "      <td>...</td>\n",
       "      <td>...</td>\n",
       "      <td>...</td>\n",
       "    </tr>\n",
       "    <tr>\n",
       "      <th>1095</th>\n",
       "      <td>97727122</td>\n",
       "      <td>35951012</td>\n",
       "      <td>Other driver error</td>\n",
       "      <td>06/11/2017</td>\n",
       "      <td>Auto</td>\n",
       "      <td>No</td>\n",
       "      <td>Material only</td>\n",
       "      <td>$3059</td>\n",
       "      <td>4.0</td>\n",
       "      <td>Yes</td>\n",
       "    </tr>\n",
       "    <tr>\n",
       "      <th>1096</th>\n",
       "      <td>10247193</td>\n",
       "      <td>14818669</td>\n",
       "      <td>Natural causes</td>\n",
       "      <td>03/14/2018</td>\n",
       "      <td>Auto</td>\n",
       "      <td>No</td>\n",
       "      <td>Material only</td>\n",
       "      <td>$1520</td>\n",
       "      <td>2.0</td>\n",
       "      <td>No</td>\n",
       "    </tr>\n",
       "    <tr>\n",
       "      <th>1097</th>\n",
       "      <td>79807493</td>\n",
       "      <td>85322831</td>\n",
       "      <td>Other driver error</td>\n",
       "      <td>02/09/2018</td>\n",
       "      <td>Auto</td>\n",
       "      <td>No</td>\n",
       "      <td>Material and injury</td>\n",
       "      <td>$23575</td>\n",
       "      <td>2.0</td>\n",
       "      <td>Yes</td>\n",
       "    </tr>\n",
       "    <tr>\n",
       "      <th>1098</th>\n",
       "      <td>69299345</td>\n",
       "      <td>73449366</td>\n",
       "      <td>Other causes</td>\n",
       "      <td>03/21/2018</td>\n",
       "      <td>Auto</td>\n",
       "      <td>Unknown</td>\n",
       "      <td>Material and injury</td>\n",
       "      <td>$25120</td>\n",
       "      <td>1.0</td>\n",
       "      <td>No</td>\n",
       "    </tr>\n",
       "    <tr>\n",
       "      <th>1099</th>\n",
       "      <td>58809728</td>\n",
       "      <td>43020876</td>\n",
       "      <td>Other driver error</td>\n",
       "      <td>06/04/2017</td>\n",
       "      <td>Auto</td>\n",
       "      <td>Yes</td>\n",
       "      <td>Material and injury</td>\n",
       "      <td>$36685</td>\n",
       "      <td>3.0</td>\n",
       "      <td>Yes</td>\n",
       "    </tr>\n",
       "  </tbody>\n",
       "</table>\n",
       "<p>1100 rows × 10 columns</p>\n",
       "</div>"
      ],
      "text/plain": [
       "      claim_id  customer_id      incident_cause  claim_date claim_area  \\\n",
       "0     54004764     21868593        Driver error  11/27/2017       Auto   \n",
       "1     33985796     75740424               Crime  10/03/2018       Home   \n",
       "2     53522022     30308357  Other driver error  02/02/2018       Auto   \n",
       "3     13015401     47830476      Natural causes  06/17/2018       Auto   \n",
       "4     22890252     19269962               Crime  01/13/2018       Auto   \n",
       "...        ...          ...                 ...         ...        ...   \n",
       "1095  97727122     35951012  Other driver error  06/11/2017       Auto   \n",
       "1096  10247193     14818669      Natural causes  03/14/2018       Auto   \n",
       "1097  79807493     85322831  Other driver error  02/09/2018       Auto   \n",
       "1098  69299345     73449366        Other causes  03/21/2018       Auto   \n",
       "1099  58809728     43020876  Other driver error  06/04/2017       Auto   \n",
       "\n",
       "     police_report           claim_type claim_amount  total_policy_claims  \\\n",
       "0               No        Material only        $2980                  1.0   \n",
       "1          Unknown        Material only        $2980                  3.0   \n",
       "2               No        Material only      $3369.5                  1.0   \n",
       "3               No        Material only        $1680                  1.0   \n",
       "4               No        Material only        $2680                  1.0   \n",
       "...            ...                  ...          ...                  ...   \n",
       "1095            No        Material only        $3059                  4.0   \n",
       "1096            No        Material only        $1520                  2.0   \n",
       "1097            No  Material and injury       $23575                  2.0   \n",
       "1098       Unknown  Material and injury       $25120                  1.0   \n",
       "1099           Yes  Material and injury       $36685                  3.0   \n",
       "\n",
       "     fraudulent  \n",
       "0            No  \n",
       "1            No  \n",
       "2           Yes  \n",
       "3            No  \n",
       "4            No  \n",
       "...         ...  \n",
       "1095        Yes  \n",
       "1096         No  \n",
       "1097        Yes  \n",
       "1098         No  \n",
       "1099        Yes  \n",
       "\n",
       "[1100 rows x 10 columns]"
      ]
     },
     "execution_count": 227,
     "metadata": {},
     "output_type": "execute_result"
    }
   ],
   "source": [
    "claims"
   ]
  },
  {
   "cell_type": "code",
   "execution_count": 187,
   "id": "a11dc1b4",
   "metadata": {},
   "outputs": [],
   "source": [
    "cust=pd.read_csv('cust_demographics.csv')"
   ]
  },
  {
   "cell_type": "code",
   "execution_count": 228,
   "id": "edbd6b86",
   "metadata": {},
   "outputs": [
    {
     "data": {
      "text/html": [
       "<div>\n",
       "<style scoped>\n",
       "    .dataframe tbody tr th:only-of-type {\n",
       "        vertical-align: middle;\n",
       "    }\n",
       "\n",
       "    .dataframe tbody tr th {\n",
       "        vertical-align: top;\n",
       "    }\n",
       "\n",
       "    .dataframe thead th {\n",
       "        text-align: right;\n",
       "    }\n",
       "</style>\n",
       "<table border=\"1\" class=\"dataframe\">\n",
       "  <thead>\n",
       "    <tr style=\"text-align: right;\">\n",
       "      <th></th>\n",
       "      <th>CUST_ID</th>\n",
       "      <th>gender</th>\n",
       "      <th>DateOfBirth</th>\n",
       "      <th>State</th>\n",
       "      <th>Contact</th>\n",
       "      <th>Segment</th>\n",
       "    </tr>\n",
       "  </thead>\n",
       "  <tbody>\n",
       "    <tr>\n",
       "      <th>0</th>\n",
       "      <td>21868593</td>\n",
       "      <td>Female</td>\n",
       "      <td>12-Jan-79</td>\n",
       "      <td>VT</td>\n",
       "      <td>789-916-8172</td>\n",
       "      <td>Platinum</td>\n",
       "    </tr>\n",
       "    <tr>\n",
       "      <th>1</th>\n",
       "      <td>75740424</td>\n",
       "      <td>Female</td>\n",
       "      <td>13-Jan-70</td>\n",
       "      <td>ME</td>\n",
       "      <td>265-543-1264</td>\n",
       "      <td>Silver</td>\n",
       "    </tr>\n",
       "    <tr>\n",
       "      <th>2</th>\n",
       "      <td>30308357</td>\n",
       "      <td>Female</td>\n",
       "      <td>11-Mar-84</td>\n",
       "      <td>TN</td>\n",
       "      <td>798-631-4758</td>\n",
       "      <td>Silver</td>\n",
       "    </tr>\n",
       "    <tr>\n",
       "      <th>3</th>\n",
       "      <td>47830476</td>\n",
       "      <td>Female</td>\n",
       "      <td>01-May-86</td>\n",
       "      <td>MA</td>\n",
       "      <td>413-187-7945</td>\n",
       "      <td>Silver</td>\n",
       "    </tr>\n",
       "    <tr>\n",
       "      <th>4</th>\n",
       "      <td>19269962</td>\n",
       "      <td>Male</td>\n",
       "      <td>13-May-77</td>\n",
       "      <td>NV</td>\n",
       "      <td>956-871-8691</td>\n",
       "      <td>Gold</td>\n",
       "    </tr>\n",
       "    <tr>\n",
       "      <th>...</th>\n",
       "      <td>...</td>\n",
       "      <td>...</td>\n",
       "      <td>...</td>\n",
       "      <td>...</td>\n",
       "      <td>...</td>\n",
       "      <td>...</td>\n",
       "    </tr>\n",
       "    <tr>\n",
       "      <th>1080</th>\n",
       "      <td>79539873</td>\n",
       "      <td>Female</td>\n",
       "      <td>15-Mar-81</td>\n",
       "      <td>ND</td>\n",
       "      <td>459-425-4319</td>\n",
       "      <td>Platinum</td>\n",
       "    </tr>\n",
       "    <tr>\n",
       "      <th>1081</th>\n",
       "      <td>42364152</td>\n",
       "      <td>Female</td>\n",
       "      <td>07-Jul-96</td>\n",
       "      <td>ID</td>\n",
       "      <td>529-462-1635</td>\n",
       "      <td>Silver</td>\n",
       "    </tr>\n",
       "    <tr>\n",
       "      <th>1082</th>\n",
       "      <td>19888166</td>\n",
       "      <td>Male</td>\n",
       "      <td>11-Apr-90</td>\n",
       "      <td>WI</td>\n",
       "      <td>712-651-9613</td>\n",
       "      <td>Gold</td>\n",
       "    </tr>\n",
       "    <tr>\n",
       "      <th>1083</th>\n",
       "      <td>11256802</td>\n",
       "      <td>Female</td>\n",
       "      <td>22-Oct-64</td>\n",
       "      <td>LA</td>\n",
       "      <td>469-345-5617</td>\n",
       "      <td>Silver</td>\n",
       "    </tr>\n",
       "    <tr>\n",
       "      <th>1084</th>\n",
       "      <td>61575264</td>\n",
       "      <td>Male</td>\n",
       "      <td>12-Jul-95</td>\n",
       "      <td>WY</td>\n",
       "      <td>182-385-1392</td>\n",
       "      <td>Gold</td>\n",
       "    </tr>\n",
       "  </tbody>\n",
       "</table>\n",
       "<p>1085 rows × 6 columns</p>\n",
       "</div>"
      ],
      "text/plain": [
       "       CUST_ID  gender DateOfBirth State       Contact   Segment\n",
       "0     21868593  Female   12-Jan-79    VT  789-916-8172  Platinum\n",
       "1     75740424  Female   13-Jan-70    ME  265-543-1264    Silver\n",
       "2     30308357  Female   11-Mar-84    TN  798-631-4758    Silver\n",
       "3     47830476  Female   01-May-86    MA  413-187-7945    Silver\n",
       "4     19269962    Male   13-May-77    NV  956-871-8691      Gold\n",
       "...        ...     ...         ...   ...           ...       ...\n",
       "1080  79539873  Female   15-Mar-81    ND  459-425-4319  Platinum\n",
       "1081  42364152  Female   07-Jul-96    ID  529-462-1635    Silver\n",
       "1082  19888166    Male   11-Apr-90    WI  712-651-9613      Gold\n",
       "1083  11256802  Female   22-Oct-64    LA  469-345-5617    Silver\n",
       "1084  61575264    Male   12-Jul-95    WY  182-385-1392      Gold\n",
       "\n",
       "[1085 rows x 6 columns]"
      ]
     },
     "execution_count": 228,
     "metadata": {},
     "output_type": "execute_result"
    }
   ],
   "source": [
    "cust"
   ]
  },
  {
   "cell_type": "code",
   "execution_count": 229,
   "id": "74ff1b71",
   "metadata": {},
   "outputs": [
    {
     "name": "stdout",
     "output_type": "stream",
     "text": [
      "<class 'pandas.core.frame.DataFrame'>\n",
      "RangeIndex: 1100 entries, 0 to 1099\n",
      "Data columns (total 10 columns):\n",
      " #   Column               Non-Null Count  Dtype  \n",
      "---  ------               --------------  -----  \n",
      " 0   claim_id             1100 non-null   int64  \n",
      " 1   customer_id          1100 non-null   int64  \n",
      " 2   incident_cause       1100 non-null   object \n",
      " 3   claim_date           1100 non-null   object \n",
      " 4   claim_area           1100 non-null   object \n",
      " 5   police_report        1100 non-null   object \n",
      " 6   claim_type           1100 non-null   object \n",
      " 7   claim_amount         1035 non-null   object \n",
      " 8   total_policy_claims  1090 non-null   float64\n",
      " 9   fraudulent           1100 non-null   object \n",
      "dtypes: float64(1), int64(2), object(7)\n",
      "memory usage: 86.1+ KB\n"
     ]
    }
   ],
   "source": [
    "claims.info()"
   ]
  },
  {
   "cell_type": "code",
   "execution_count": 230,
   "id": "2c2967eb",
   "metadata": {},
   "outputs": [
    {
     "name": "stdout",
     "output_type": "stream",
     "text": [
      "(1100, 10)\n",
      "(1085, 6)\n"
     ]
    }
   ],
   "source": [
    "print(claims.shape)\n",
    "print(cust.shape)"
   ]
  },
  {
   "cell_type": "code",
   "execution_count": 231,
   "id": "17ad42b3",
   "metadata": {},
   "outputs": [],
   "source": [
    "cust_claims=pd.merge(left=claims,right=cust,left_on='customer_id',right_on='CUST_ID',how='outer')"
   ]
  },
  {
   "cell_type": "code",
   "execution_count": 232,
   "id": "88963068",
   "metadata": {},
   "outputs": [
    {
     "data": {
      "text/html": [
       "<div>\n",
       "<style scoped>\n",
       "    .dataframe tbody tr th:only-of-type {\n",
       "        vertical-align: middle;\n",
       "    }\n",
       "\n",
       "    .dataframe tbody tr th {\n",
       "        vertical-align: top;\n",
       "    }\n",
       "\n",
       "    .dataframe thead th {\n",
       "        text-align: right;\n",
       "    }\n",
       "</style>\n",
       "<table border=\"1\" class=\"dataframe\">\n",
       "  <thead>\n",
       "    <tr style=\"text-align: right;\">\n",
       "      <th></th>\n",
       "      <th>claim_id</th>\n",
       "      <th>customer_id</th>\n",
       "      <th>incident_cause</th>\n",
       "      <th>claim_date</th>\n",
       "      <th>claim_area</th>\n",
       "      <th>police_report</th>\n",
       "      <th>claim_type</th>\n",
       "      <th>claim_amount</th>\n",
       "      <th>total_policy_claims</th>\n",
       "      <th>fraudulent</th>\n",
       "      <th>CUST_ID</th>\n",
       "      <th>gender</th>\n",
       "      <th>DateOfBirth</th>\n",
       "      <th>State</th>\n",
       "      <th>Contact</th>\n",
       "      <th>Segment</th>\n",
       "    </tr>\n",
       "  </thead>\n",
       "  <tbody>\n",
       "    <tr>\n",
       "      <th>1097</th>\n",
       "      <td>79807493.0</td>\n",
       "      <td>85322831.0</td>\n",
       "      <td>Other driver error</td>\n",
       "      <td>02/09/2018</td>\n",
       "      <td>Auto</td>\n",
       "      <td>No</td>\n",
       "      <td>Material and injury</td>\n",
       "      <td>$23575</td>\n",
       "      <td>2.0</td>\n",
       "      <td>Yes</td>\n",
       "      <td>NaN</td>\n",
       "      <td>NaN</td>\n",
       "      <td>NaN</td>\n",
       "      <td>NaN</td>\n",
       "      <td>NaN</td>\n",
       "      <td>NaN</td>\n",
       "    </tr>\n",
       "    <tr>\n",
       "      <th>1098</th>\n",
       "      <td>69299345.0</td>\n",
       "      <td>73449366.0</td>\n",
       "      <td>Other causes</td>\n",
       "      <td>03/21/2018</td>\n",
       "      <td>Auto</td>\n",
       "      <td>Unknown</td>\n",
       "      <td>Material and injury</td>\n",
       "      <td>$25120</td>\n",
       "      <td>1.0</td>\n",
       "      <td>No</td>\n",
       "      <td>NaN</td>\n",
       "      <td>NaN</td>\n",
       "      <td>NaN</td>\n",
       "      <td>NaN</td>\n",
       "      <td>NaN</td>\n",
       "      <td>NaN</td>\n",
       "    </tr>\n",
       "    <tr>\n",
       "      <th>1099</th>\n",
       "      <td>58809728.0</td>\n",
       "      <td>43020876.0</td>\n",
       "      <td>Other driver error</td>\n",
       "      <td>06/04/2017</td>\n",
       "      <td>Auto</td>\n",
       "      <td>Yes</td>\n",
       "      <td>Material and injury</td>\n",
       "      <td>$36685</td>\n",
       "      <td>3.0</td>\n",
       "      <td>Yes</td>\n",
       "      <td>NaN</td>\n",
       "      <td>NaN</td>\n",
       "      <td>NaN</td>\n",
       "      <td>NaN</td>\n",
       "      <td>NaN</td>\n",
       "      <td>NaN</td>\n",
       "    </tr>\n",
       "    <tr>\n",
       "      <th>1100</th>\n",
       "      <td>NaN</td>\n",
       "      <td>NaN</td>\n",
       "      <td>NaN</td>\n",
       "      <td>NaN</td>\n",
       "      <td>NaN</td>\n",
       "      <td>NaN</td>\n",
       "      <td>NaN</td>\n",
       "      <td>NaN</td>\n",
       "      <td>NaN</td>\n",
       "      <td>NaN</td>\n",
       "      <td>38183238.0</td>\n",
       "      <td>Female</td>\n",
       "      <td>15-Mar-85</td>\n",
       "      <td>FL</td>\n",
       "      <td>596-319-8236</td>\n",
       "      <td>Gold</td>\n",
       "    </tr>\n",
       "    <tr>\n",
       "      <th>1101</th>\n",
       "      <td>NaN</td>\n",
       "      <td>NaN</td>\n",
       "      <td>NaN</td>\n",
       "      <td>NaN</td>\n",
       "      <td>NaN</td>\n",
       "      <td>NaN</td>\n",
       "      <td>NaN</td>\n",
       "      <td>NaN</td>\n",
       "      <td>NaN</td>\n",
       "      <td>NaN</td>\n",
       "      <td>48335931.0</td>\n",
       "      <td>Female</td>\n",
       "      <td>29-Jan-62</td>\n",
       "      <td>MO</td>\n",
       "      <td>654-352-4582</td>\n",
       "      <td>Silver</td>\n",
       "    </tr>\n",
       "    <tr>\n",
       "      <th>1102</th>\n",
       "      <td>NaN</td>\n",
       "      <td>NaN</td>\n",
       "      <td>NaN</td>\n",
       "      <td>NaN</td>\n",
       "      <td>NaN</td>\n",
       "      <td>NaN</td>\n",
       "      <td>NaN</td>\n",
       "      <td>NaN</td>\n",
       "      <td>NaN</td>\n",
       "      <td>NaN</td>\n",
       "      <td>74888099.0</td>\n",
       "      <td>Male</td>\n",
       "      <td>22-Jul-80</td>\n",
       "      <td>CO</td>\n",
       "      <td>125-613-7698</td>\n",
       "      <td>Platinum</td>\n",
       "    </tr>\n",
       "    <tr>\n",
       "      <th>1103</th>\n",
       "      <td>NaN</td>\n",
       "      <td>NaN</td>\n",
       "      <td>NaN</td>\n",
       "      <td>NaN</td>\n",
       "      <td>NaN</td>\n",
       "      <td>NaN</td>\n",
       "      <td>NaN</td>\n",
       "      <td>NaN</td>\n",
       "      <td>NaN</td>\n",
       "      <td>NaN</td>\n",
       "      <td>36009093.0</td>\n",
       "      <td>Female</td>\n",
       "      <td>04-Jun-84</td>\n",
       "      <td>SC</td>\n",
       "      <td>264-374-5794</td>\n",
       "      <td>Platinum</td>\n",
       "    </tr>\n",
       "    <tr>\n",
       "      <th>1104</th>\n",
       "      <td>NaN</td>\n",
       "      <td>NaN</td>\n",
       "      <td>NaN</td>\n",
       "      <td>NaN</td>\n",
       "      <td>NaN</td>\n",
       "      <td>NaN</td>\n",
       "      <td>NaN</td>\n",
       "      <td>NaN</td>\n",
       "      <td>NaN</td>\n",
       "      <td>NaN</td>\n",
       "      <td>60016590.0</td>\n",
       "      <td>Female</td>\n",
       "      <td>25-May-84</td>\n",
       "      <td>NV</td>\n",
       "      <td>649-742-8132</td>\n",
       "      <td>Silver</td>\n",
       "    </tr>\n",
       "    <tr>\n",
       "      <th>1105</th>\n",
       "      <td>NaN</td>\n",
       "      <td>NaN</td>\n",
       "      <td>NaN</td>\n",
       "      <td>NaN</td>\n",
       "      <td>NaN</td>\n",
       "      <td>NaN</td>\n",
       "      <td>NaN</td>\n",
       "      <td>NaN</td>\n",
       "      <td>NaN</td>\n",
       "      <td>NaN</td>\n",
       "      <td>96861647.0</td>\n",
       "      <td>Female</td>\n",
       "      <td>06-Aug-96</td>\n",
       "      <td>NH</td>\n",
       "      <td>495-732-2638</td>\n",
       "      <td>Silver</td>\n",
       "    </tr>\n",
       "    <tr>\n",
       "      <th>1106</th>\n",
       "      <td>NaN</td>\n",
       "      <td>NaN</td>\n",
       "      <td>NaN</td>\n",
       "      <td>NaN</td>\n",
       "      <td>NaN</td>\n",
       "      <td>NaN</td>\n",
       "      <td>NaN</td>\n",
       "      <td>NaN</td>\n",
       "      <td>NaN</td>\n",
       "      <td>NaN</td>\n",
       "      <td>70659761.0</td>\n",
       "      <td>Male</td>\n",
       "      <td>25-Jun-94</td>\n",
       "      <td>WI</td>\n",
       "      <td>928-163-5178</td>\n",
       "      <td>Platinum</td>\n",
       "    </tr>\n",
       "  </tbody>\n",
       "</table>\n",
       "</div>"
      ],
      "text/plain": [
       "        claim_id  customer_id      incident_cause  claim_date claim_area  \\\n",
       "1097  79807493.0   85322831.0  Other driver error  02/09/2018       Auto   \n",
       "1098  69299345.0   73449366.0        Other causes  03/21/2018       Auto   \n",
       "1099  58809728.0   43020876.0  Other driver error  06/04/2017       Auto   \n",
       "1100         NaN          NaN                 NaN         NaN        NaN   \n",
       "1101         NaN          NaN                 NaN         NaN        NaN   \n",
       "1102         NaN          NaN                 NaN         NaN        NaN   \n",
       "1103         NaN          NaN                 NaN         NaN        NaN   \n",
       "1104         NaN          NaN                 NaN         NaN        NaN   \n",
       "1105         NaN          NaN                 NaN         NaN        NaN   \n",
       "1106         NaN          NaN                 NaN         NaN        NaN   \n",
       "\n",
       "     police_report           claim_type claim_amount  total_policy_claims  \\\n",
       "1097            No  Material and injury       $23575                  2.0   \n",
       "1098       Unknown  Material and injury       $25120                  1.0   \n",
       "1099           Yes  Material and injury       $36685                  3.0   \n",
       "1100           NaN                  NaN          NaN                  NaN   \n",
       "1101           NaN                  NaN          NaN                  NaN   \n",
       "1102           NaN                  NaN          NaN                  NaN   \n",
       "1103           NaN                  NaN          NaN                  NaN   \n",
       "1104           NaN                  NaN          NaN                  NaN   \n",
       "1105           NaN                  NaN          NaN                  NaN   \n",
       "1106           NaN                  NaN          NaN                  NaN   \n",
       "\n",
       "     fraudulent     CUST_ID  gender DateOfBirth State       Contact   Segment  \n",
       "1097        Yes         NaN     NaN         NaN   NaN           NaN       NaN  \n",
       "1098         No         NaN     NaN         NaN   NaN           NaN       NaN  \n",
       "1099        Yes         NaN     NaN         NaN   NaN           NaN       NaN  \n",
       "1100        NaN  38183238.0  Female   15-Mar-85    FL  596-319-8236      Gold  \n",
       "1101        NaN  48335931.0  Female   29-Jan-62    MO  654-352-4582    Silver  \n",
       "1102        NaN  74888099.0    Male   22-Jul-80    CO  125-613-7698  Platinum  \n",
       "1103        NaN  36009093.0  Female   04-Jun-84    SC  264-374-5794  Platinum  \n",
       "1104        NaN  60016590.0  Female   25-May-84    NV  649-742-8132    Silver  \n",
       "1105        NaN  96861647.0  Female   06-Aug-96    NH  495-732-2638    Silver  \n",
       "1106        NaN  70659761.0    Male   25-Jun-94    WI  928-163-5178  Platinum  "
      ]
     },
     "execution_count": 232,
     "metadata": {},
     "output_type": "execute_result"
    }
   ],
   "source": [
    "cust_claims.tail(10)"
   ]
  },
  {
   "cell_type": "code",
   "execution_count": 233,
   "id": "f1f38723",
   "metadata": {},
   "outputs": [
    {
     "name": "stdout",
     "output_type": "stream",
     "text": [
      "<class 'pandas.core.frame.DataFrame'>\n",
      "Int64Index: 1107 entries, 0 to 1106\n",
      "Data columns (total 16 columns):\n",
      " #   Column               Non-Null Count  Dtype  \n",
      "---  ------               --------------  -----  \n",
      " 0   claim_id             1100 non-null   float64\n",
      " 1   customer_id          1100 non-null   float64\n",
      " 2   incident_cause       1100 non-null   object \n",
      " 3   claim_date           1100 non-null   object \n",
      " 4   claim_area           1100 non-null   object \n",
      " 5   police_report        1100 non-null   object \n",
      " 6   claim_type           1100 non-null   object \n",
      " 7   claim_amount         1035 non-null   object \n",
      " 8   total_policy_claims  1090 non-null   float64\n",
      " 9   fraudulent           1100 non-null   object \n",
      " 10  CUST_ID              1092 non-null   float64\n",
      " 11  gender               1092 non-null   object \n",
      " 12  DateOfBirth          1092 non-null   object \n",
      " 13  State                1092 non-null   object \n",
      " 14  Contact              1092 non-null   object \n",
      " 15  Segment              1092 non-null   object \n",
      "dtypes: float64(4), object(12)\n",
      "memory usage: 147.0+ KB\n"
     ]
    }
   ],
   "source": [
    "cust_claims.info()"
   ]
  },
  {
   "cell_type": "code",
   "execution_count": 234,
   "id": "cdd39ba4",
   "metadata": {},
   "outputs": [
    {
     "data": {
      "text/html": [
       "<div>\n",
       "<style scoped>\n",
       "    .dataframe tbody tr th:only-of-type {\n",
       "        vertical-align: middle;\n",
       "    }\n",
       "\n",
       "    .dataframe tbody tr th {\n",
       "        vertical-align: top;\n",
       "    }\n",
       "\n",
       "    .dataframe thead th {\n",
       "        text-align: right;\n",
       "    }\n",
       "</style>\n",
       "<table border=\"1\" class=\"dataframe\">\n",
       "  <thead>\n",
       "    <tr style=\"text-align: right;\">\n",
       "      <th></th>\n",
       "      <th>claim_id</th>\n",
       "      <th>customer_id</th>\n",
       "      <th>incident_cause</th>\n",
       "      <th>claim_date</th>\n",
       "      <th>claim_area</th>\n",
       "      <th>police_report</th>\n",
       "      <th>claim_type</th>\n",
       "      <th>claim_amount</th>\n",
       "      <th>total_policy_claims</th>\n",
       "      <th>fraudulent</th>\n",
       "      <th>CUST_ID</th>\n",
       "      <th>gender</th>\n",
       "      <th>DateOfBirth</th>\n",
       "      <th>State</th>\n",
       "      <th>Contact</th>\n",
       "      <th>Segment</th>\n",
       "    </tr>\n",
       "  </thead>\n",
       "  <tbody>\n",
       "    <tr>\n",
       "      <th>0</th>\n",
       "      <td>54004764.0</td>\n",
       "      <td>21868593.0</td>\n",
       "      <td>Driver error</td>\n",
       "      <td>11/27/2017</td>\n",
       "      <td>Auto</td>\n",
       "      <td>No</td>\n",
       "      <td>Material only</td>\n",
       "      <td>$2980</td>\n",
       "      <td>1.0</td>\n",
       "      <td>No</td>\n",
       "      <td>21868593.0</td>\n",
       "      <td>Female</td>\n",
       "      <td>12-Jan-79</td>\n",
       "      <td>VT</td>\n",
       "      <td>789-916-8172</td>\n",
       "      <td>Platinum</td>\n",
       "    </tr>\n",
       "    <tr>\n",
       "      <th>1</th>\n",
       "      <td>33985796.0</td>\n",
       "      <td>75740424.0</td>\n",
       "      <td>Crime</td>\n",
       "      <td>10/03/2018</td>\n",
       "      <td>Home</td>\n",
       "      <td>Unknown</td>\n",
       "      <td>Material only</td>\n",
       "      <td>$2980</td>\n",
       "      <td>3.0</td>\n",
       "      <td>No</td>\n",
       "      <td>75740424.0</td>\n",
       "      <td>Female</td>\n",
       "      <td>13-Jan-70</td>\n",
       "      <td>ME</td>\n",
       "      <td>265-543-1264</td>\n",
       "      <td>Silver</td>\n",
       "    </tr>\n",
       "  </tbody>\n",
       "</table>\n",
       "</div>"
      ],
      "text/plain": [
       "     claim_id  customer_id incident_cause  claim_date claim_area  \\\n",
       "0  54004764.0   21868593.0   Driver error  11/27/2017       Auto   \n",
       "1  33985796.0   75740424.0          Crime  10/03/2018       Home   \n",
       "\n",
       "  police_report     claim_type claim_amount  total_policy_claims fraudulent  \\\n",
       "0            No  Material only        $2980                  1.0         No   \n",
       "1       Unknown  Material only        $2980                  3.0         No   \n",
       "\n",
       "      CUST_ID  gender DateOfBirth State       Contact   Segment  \n",
       "0  21868593.0  Female   12-Jan-79    VT  789-916-8172  Platinum  \n",
       "1  75740424.0  Female   13-Jan-70    ME  265-543-1264    Silver  "
      ]
     },
     "execution_count": 234,
     "metadata": {},
     "output_type": "execute_result"
    }
   ],
   "source": [
    "cust_claims.head(2)"
   ]
  },
  {
   "cell_type": "code",
   "execution_count": 241,
   "id": "27fd7ec9",
   "metadata": {},
   "outputs": [
    {
     "name": "stderr",
     "output_type": "stream",
     "text": [
      "/var/folders/sc/ybl0t2wd6mz_fmh1xp737j4c0000gn/T/ipykernel_17141/3349120002.py:38: FutureWarning: The default value of regex will change from True to False in a future version. In addition, single character regular expressions will *not* be treated as literal strings when regex=True.\n",
      "  cust_claims[\"claim_amount\"] = pd.to_numeric(cust_claims.claim_amount.str.replace(\"$\",\"\"),downcast='float')\n"
     ]
    }
   ],
   "source": [
    "# 2. Perform a data audit for the datatypes and find out if there are any mismatch within the current datatypes of the columns and their\n",
    "# business significance.\n",
    "# 3. Convert the column claim_amount to numeric. Use the appropriate modules/attributes to remove the $ sign.\n",
    "\n",
    "\n",
    "# claim_date -> date\n",
    "cust_claims.claim_date=pd.to_datetime(cust_claims.claim_date,format='%m/%d/%Y')\n",
    "\n",
    "# cust_id-->int\n",
    "cust_claims['CUST_ID']= cust_claims['CUST_ID'].astype('Int64')\n",
    "\n",
    "# cutomer_id-->int\n",
    "cust_claims['customer_id']=cust_claims['customer_id'].astype('Int64')\n",
    "\n",
    "\n",
    "# claim_id-->int\n",
    "\n",
    "cust_claims['claim_id']=cust_claims['claim_id'].astype('Int64')\n",
    "\n",
    "# DateOfBirth--> date\n",
    "cust_claims['DateOfBirth']= pd.to_datetime(cust_claims.DateOfBirth,format='%d-%b-%y')\n",
    "\n",
    "# claim_date --> date\n",
    "cust_claims['claim_date']= pd.to_datetime(cust_claims.claim_date,format='%d-%b-%y')\n",
    "\n",
    "\n",
    "cust_claims.loc[(cust_claims.DateOfBirth.dt.year > 2020),\"DateOfBirth\"]=cust_claims[cust_claims.DateOfBirth.dt.year > 2020][\"DateOfBirth\"].apply(lambda x: x - pd.DateOffset(years=100))\n",
    "\n",
    "##claim_amount -> float and remove $ \n",
    "\n",
    "# cust_claims['claim_amount']=cust_claims['claim_amount'].str.replace('$','')\n",
    "# # claim_amount -> strip whitespace\n",
    "# cust_claims['claim_amount'] = cust_claims['claim_amount'].str.strip()\n",
    "# # claim_amount ->convert to float\n",
    "# cust_claims['claim_amount'] =cust_claims['claim_amount'].astype('float')\n",
    "\n",
    "# one line solution\n",
    "cust_claims[\"claim_amount\"] = pd.to_numeric(cust_claims.claim_amount.str.replace(\"$\",\"\"),downcast='float')\n"
   ]
  },
  {
   "cell_type": "code",
   "execution_count": null,
   "id": "488d4199",
   "metadata": {},
   "outputs": [],
   "source": []
  },
  {
   "cell_type": "code",
   "execution_count": 242,
   "id": "11958d04",
   "metadata": {},
   "outputs": [],
   "source": [
    "# 4. Of all the injury claims, some of them have gone unreported with the\n",
    "# police. Create an alert flag (1,0) for all such claims.\n",
    "\n",
    "cust_claims['flag']=cust_claims.police_report.apply(lambda x: (1 if x =='Yes' else 0))"
   ]
  },
  {
   "cell_type": "code",
   "execution_count": 243,
   "id": "8334f89e",
   "metadata": {},
   "outputs": [],
   "source": [
    "# 5. One customer can claim for insurance more than once and in each claim,\n",
    "# multiple categories of claims can be involved. However, customer ID\n",
    "# should remain unique.\n",
    "# Retain the most recent observation and delete any duplicated records in\n",
    "# the data based on the customer ID column.\n",
    "\n",
    "cust_claims=cust_claims.groupby('CUST_ID').last().reset_index(drop = True)"
   ]
  },
  {
   "cell_type": "code",
   "execution_count": null,
   "id": "086ad54e",
   "metadata": {},
   "outputs": [],
   "source": []
  },
  {
   "cell_type": "code",
   "execution_count": 244,
   "id": "524a326e",
   "metadata": {},
   "outputs": [],
   "source": [
    "# 6 Check for missing values and impute the missing values with an appropriate value.\n",
    "# (mean for continuous and mode for categorical)\n",
    "\n",
    "cat_var=['incident_cause','claim_area','police_report','claim_type','fraudulent','flag']\n",
    "cont_var=['claim_amount','total_policy_claims']\n",
    "\n",
    "cust_claims[cat_var]=cust_claims[cat_var].fillna(cust_claims.mode().iloc[0])\n",
    "\n",
    "cust_claims[cont_var]=cust_claims[cont_var].fillna(cust_claims[cont_var].mean())"
   ]
  },
  {
   "cell_type": "code",
   "execution_count": null,
   "id": "18da1d66",
   "metadata": {},
   "outputs": [],
   "source": []
  },
  {
   "cell_type": "code",
   "execution_count": 245,
   "id": "4f167146",
   "metadata": {},
   "outputs": [
    {
     "data": {
      "text/html": [
       "<div>\n",
       "<style scoped>\n",
       "    .dataframe tbody tr th:only-of-type {\n",
       "        vertical-align: middle;\n",
       "    }\n",
       "\n",
       "    .dataframe tbody tr th {\n",
       "        vertical-align: top;\n",
       "    }\n",
       "\n",
       "    .dataframe thead th {\n",
       "        text-align: right;\n",
       "    }\n",
       "</style>\n",
       "<table border=\"1\" class=\"dataframe\">\n",
       "  <thead>\n",
       "    <tr style=\"text-align: right;\">\n",
       "      <th></th>\n",
       "      <th>claim_id</th>\n",
       "      <th>customer_id</th>\n",
       "      <th>incident_cause</th>\n",
       "      <th>claim_date</th>\n",
       "      <th>claim_area</th>\n",
       "      <th>police_report</th>\n",
       "      <th>claim_type</th>\n",
       "      <th>claim_amount</th>\n",
       "      <th>total_policy_claims</th>\n",
       "      <th>fraudulent</th>\n",
       "      <th>gender</th>\n",
       "      <th>DateOfBirth</th>\n",
       "      <th>State</th>\n",
       "      <th>Contact</th>\n",
       "      <th>Segment</th>\n",
       "      <th>flag</th>\n",
       "      <th>age</th>\n",
       "      <th>age_cat</th>\n",
       "    </tr>\n",
       "  </thead>\n",
       "  <tbody>\n",
       "    <tr>\n",
       "      <th>0</th>\n",
       "      <td>69348631</td>\n",
       "      <td>154557</td>\n",
       "      <td>Driver error</td>\n",
       "      <td>2018-04-10</td>\n",
       "      <td>Auto</td>\n",
       "      <td>No</td>\n",
       "      <td>Injury only</td>\n",
       "      <td>12501.492188</td>\n",
       "      <td>1.0</td>\n",
       "      <td>Yes</td>\n",
       "      <td>Female</td>\n",
       "      <td>1978-05-23</td>\n",
       "      <td>DE</td>\n",
       "      <td>962-879-1238</td>\n",
       "      <td>Platinum</td>\n",
       "      <td>0</td>\n",
       "      <td>44</td>\n",
       "      <td>Adult</td>\n",
       "    </tr>\n",
       "    <tr>\n",
       "      <th>1</th>\n",
       "      <td>40953049</td>\n",
       "      <td>263204</td>\n",
       "      <td>Other causes</td>\n",
       "      <td>2018-04-04</td>\n",
       "      <td>Auto</td>\n",
       "      <td>No</td>\n",
       "      <td>Material and injury</td>\n",
       "      <td>39192.000000</td>\n",
       "      <td>1.0</td>\n",
       "      <td>Yes</td>\n",
       "      <td>Male</td>\n",
       "      <td>1972-12-20</td>\n",
       "      <td>TX</td>\n",
       "      <td>173-892-6314</td>\n",
       "      <td>Silver</td>\n",
       "      <td>0</td>\n",
       "      <td>50</td>\n",
       "      <td>Adult</td>\n",
       "    </tr>\n",
       "    <tr>\n",
       "      <th>2</th>\n",
       "      <td>45780237</td>\n",
       "      <td>287476</td>\n",
       "      <td>Natural causes</td>\n",
       "      <td>2017-10-17</td>\n",
       "      <td>Auto</td>\n",
       "      <td>Unknown</td>\n",
       "      <td>Material only</td>\n",
       "      <td>1621.500000</td>\n",
       "      <td>2.0</td>\n",
       "      <td>Yes</td>\n",
       "      <td>Male</td>\n",
       "      <td>1988-07-28</td>\n",
       "      <td>FL</td>\n",
       "      <td>364-598-1549</td>\n",
       "      <td>Silver</td>\n",
       "      <td>0</td>\n",
       "      <td>34</td>\n",
       "      <td>Adult</td>\n",
       "    </tr>\n",
       "    <tr>\n",
       "      <th>3</th>\n",
       "      <td>89833962</td>\n",
       "      <td>441097</td>\n",
       "      <td>Other causes</td>\n",
       "      <td>2018-03-21</td>\n",
       "      <td>Auto</td>\n",
       "      <td>Yes</td>\n",
       "      <td>Material and injury</td>\n",
       "      <td>37040.000000</td>\n",
       "      <td>1.0</td>\n",
       "      <td>No</td>\n",
       "      <td>Male</td>\n",
       "      <td>1971-08-19</td>\n",
       "      <td>CA</td>\n",
       "      <td>187-348-8375</td>\n",
       "      <td>Gold</td>\n",
       "      <td>1</td>\n",
       "      <td>51</td>\n",
       "      <td>Adult</td>\n",
       "    </tr>\n",
       "    <tr>\n",
       "      <th>4</th>\n",
       "      <td>35782742</td>\n",
       "      <td>524545</td>\n",
       "      <td>Other driver error</td>\n",
       "      <td>2018-07-27</td>\n",
       "      <td>Auto</td>\n",
       "      <td>No</td>\n",
       "      <td>Injury only</td>\n",
       "      <td>35250.000000</td>\n",
       "      <td>3.0</td>\n",
       "      <td>No</td>\n",
       "      <td>Female</td>\n",
       "      <td>1980-08-10</td>\n",
       "      <td>NC</td>\n",
       "      <td>798-862-5398</td>\n",
       "      <td>Gold</td>\n",
       "      <td>0</td>\n",
       "      <td>42</td>\n",
       "      <td>Adult</td>\n",
       "    </tr>\n",
       "    <tr>\n",
       "      <th>...</th>\n",
       "      <td>...</td>\n",
       "      <td>...</td>\n",
       "      <td>...</td>\n",
       "      <td>...</td>\n",
       "      <td>...</td>\n",
       "      <td>...</td>\n",
       "      <td>...</td>\n",
       "      <td>...</td>\n",
       "      <td>...</td>\n",
       "      <td>...</td>\n",
       "      <td>...</td>\n",
       "      <td>...</td>\n",
       "      <td>...</td>\n",
       "      <td>...</td>\n",
       "      <td>...</td>\n",
       "      <td>...</td>\n",
       "      <td>...</td>\n",
       "      <td>...</td>\n",
       "    </tr>\n",
       "    <tr>\n",
       "      <th>1080</th>\n",
       "      <td>4549014</td>\n",
       "      <td>99674324</td>\n",
       "      <td>Other causes</td>\n",
       "      <td>2018-07-07</td>\n",
       "      <td>Auto</td>\n",
       "      <td>No</td>\n",
       "      <td>Injury only</td>\n",
       "      <td>21480.000000</td>\n",
       "      <td>1.0</td>\n",
       "      <td>No</td>\n",
       "      <td>Male</td>\n",
       "      <td>1965-01-28</td>\n",
       "      <td>UT</td>\n",
       "      <td>517-562-4916</td>\n",
       "      <td>Silver</td>\n",
       "      <td>0</td>\n",
       "      <td>57</td>\n",
       "      <td>Adult</td>\n",
       "    </tr>\n",
       "    <tr>\n",
       "      <th>1081</th>\n",
       "      <td>35453672</td>\n",
       "      <td>99723844</td>\n",
       "      <td>Natural causes</td>\n",
       "      <td>2018-01-06</td>\n",
       "      <td>Auto</td>\n",
       "      <td>Yes</td>\n",
       "      <td>Material and injury</td>\n",
       "      <td>14360.000000</td>\n",
       "      <td>1.0</td>\n",
       "      <td>No</td>\n",
       "      <td>Female</td>\n",
       "      <td>1966-06-19</td>\n",
       "      <td>HI</td>\n",
       "      <td>457-752-1374</td>\n",
       "      <td>Gold</td>\n",
       "      <td>1</td>\n",
       "      <td>56</td>\n",
       "      <td>Adult</td>\n",
       "    </tr>\n",
       "    <tr>\n",
       "      <th>1082</th>\n",
       "      <td>37305754</td>\n",
       "      <td>99761663</td>\n",
       "      <td>Natural causes</td>\n",
       "      <td>2018-04-04</td>\n",
       "      <td>Auto</td>\n",
       "      <td>No</td>\n",
       "      <td>Material only</td>\n",
       "      <td>1242.000000</td>\n",
       "      <td>1.0</td>\n",
       "      <td>Yes</td>\n",
       "      <td>Female</td>\n",
       "      <td>1963-11-18</td>\n",
       "      <td>NC</td>\n",
       "      <td>643-246-4718</td>\n",
       "      <td>Silver</td>\n",
       "      <td>0</td>\n",
       "      <td>59</td>\n",
       "      <td>Adult</td>\n",
       "    </tr>\n",
       "    <tr>\n",
       "      <th>1083</th>\n",
       "      <td>22960702</td>\n",
       "      <td>99892000</td>\n",
       "      <td>Driver error</td>\n",
       "      <td>2017-11-13</td>\n",
       "      <td>Auto</td>\n",
       "      <td>No</td>\n",
       "      <td>Material only</td>\n",
       "      <td>2415.000000</td>\n",
       "      <td>2.0</td>\n",
       "      <td>Yes</td>\n",
       "      <td>Male</td>\n",
       "      <td>1995-06-08</td>\n",
       "      <td>OR</td>\n",
       "      <td>395-246-6172</td>\n",
       "      <td>Gold</td>\n",
       "      <td>0</td>\n",
       "      <td>27</td>\n",
       "      <td>Youth</td>\n",
       "    </tr>\n",
       "    <tr>\n",
       "      <th>1084</th>\n",
       "      <td>47262068</td>\n",
       "      <td>99961993</td>\n",
       "      <td>Driver error</td>\n",
       "      <td>2018-10-23</td>\n",
       "      <td>Home</td>\n",
       "      <td>No</td>\n",
       "      <td>Material only</td>\n",
       "      <td>2310.000000</td>\n",
       "      <td>1.0</td>\n",
       "      <td>No</td>\n",
       "      <td>Male</td>\n",
       "      <td>1995-06-10</td>\n",
       "      <td>AL</td>\n",
       "      <td>234-943-2876</td>\n",
       "      <td>Platinum</td>\n",
       "      <td>0</td>\n",
       "      <td>27</td>\n",
       "      <td>Youth</td>\n",
       "    </tr>\n",
       "  </tbody>\n",
       "</table>\n",
       "<p>1085 rows × 18 columns</p>\n",
       "</div>"
      ],
      "text/plain": [
       "      claim_id  customer_id      incident_cause claim_date claim_area  \\\n",
       "0     69348631       154557        Driver error 2018-04-10       Auto   \n",
       "1     40953049       263204        Other causes 2018-04-04       Auto   \n",
       "2     45780237       287476      Natural causes 2017-10-17       Auto   \n",
       "3     89833962       441097        Other causes 2018-03-21       Auto   \n",
       "4     35782742       524545  Other driver error 2018-07-27       Auto   \n",
       "...        ...          ...                 ...        ...        ...   \n",
       "1080   4549014     99674324        Other causes 2018-07-07       Auto   \n",
       "1081  35453672     99723844      Natural causes 2018-01-06       Auto   \n",
       "1082  37305754     99761663      Natural causes 2018-04-04       Auto   \n",
       "1083  22960702     99892000        Driver error 2017-11-13       Auto   \n",
       "1084  47262068     99961993        Driver error 2018-10-23       Home   \n",
       "\n",
       "     police_report           claim_type  claim_amount  total_policy_claims  \\\n",
       "0               No          Injury only  12501.492188                  1.0   \n",
       "1               No  Material and injury  39192.000000                  1.0   \n",
       "2          Unknown        Material only   1621.500000                  2.0   \n",
       "3              Yes  Material and injury  37040.000000                  1.0   \n",
       "4               No          Injury only  35250.000000                  3.0   \n",
       "...            ...                  ...           ...                  ...   \n",
       "1080            No          Injury only  21480.000000                  1.0   \n",
       "1081           Yes  Material and injury  14360.000000                  1.0   \n",
       "1082            No        Material only   1242.000000                  1.0   \n",
       "1083            No        Material only   2415.000000                  2.0   \n",
       "1084            No        Material only   2310.000000                  1.0   \n",
       "\n",
       "     fraudulent  gender DateOfBirth State       Contact   Segment  flag  age  \\\n",
       "0           Yes  Female  1978-05-23    DE  962-879-1238  Platinum     0   44   \n",
       "1           Yes    Male  1972-12-20    TX  173-892-6314    Silver     0   50   \n",
       "2           Yes    Male  1988-07-28    FL  364-598-1549    Silver     0   34   \n",
       "3            No    Male  1971-08-19    CA  187-348-8375      Gold     1   51   \n",
       "4            No  Female  1980-08-10    NC  798-862-5398      Gold     0   42   \n",
       "...         ...     ...         ...   ...           ...       ...   ...  ...   \n",
       "1080         No    Male  1965-01-28    UT  517-562-4916    Silver     0   57   \n",
       "1081         No  Female  1966-06-19    HI  457-752-1374      Gold     1   56   \n",
       "1082        Yes  Female  1963-11-18    NC  643-246-4718    Silver     0   59   \n",
       "1083        Yes    Male  1995-06-08    OR  395-246-6172      Gold     0   27   \n",
       "1084         No    Male  1995-06-10    AL  234-943-2876  Platinum     0   27   \n",
       "\n",
       "     age_cat  \n",
       "0      Adult  \n",
       "1      Adult  \n",
       "2      Adult  \n",
       "3      Adult  \n",
       "4      Adult  \n",
       "...      ...  \n",
       "1080   Adult  \n",
       "1081   Adult  \n",
       "1082   Adult  \n",
       "1083   Youth  \n",
       "1084   Youth  \n",
       "\n",
       "[1085 rows x 18 columns]"
      ]
     },
     "execution_count": 245,
     "metadata": {},
     "output_type": "execute_result"
    }
   ],
   "source": [
    "# 7. Calculate the age of customers in years. Based on the age, categorize the customers according to the below criteria\n",
    "# Children < 18\n",
    "# Youth 18-30\n",
    "# Adult 30-60\n",
    "# Senior > 60\n",
    "\n",
    "\n",
    "cust_claims['age']=dt.datetime.now().year-cust_claims.DateOfBirth.dt.strftime('%Y').astype('int')\n",
    "\n",
    "cust_claims['age_cat']=cust_claims.age.apply(lambda x: 'Senior' if x>60  else 'Adult' if  (x>=30 ) else 'Youth' if (x>=18) else 'Children' )\n",
    "\n",
    "cust_claims"
   ]
  },
  {
   "cell_type": "code",
   "execution_count": 246,
   "id": "1b2523c1",
   "metadata": {},
   "outputs": [
    {
     "data": {
      "text/html": [
       "<div>\n",
       "<style scoped>\n",
       "    .dataframe tbody tr th:only-of-type {\n",
       "        vertical-align: middle;\n",
       "    }\n",
       "\n",
       "    .dataframe tbody tr th {\n",
       "        vertical-align: top;\n",
       "    }\n",
       "\n",
       "    .dataframe thead th {\n",
       "        text-align: right;\n",
       "    }\n",
       "</style>\n",
       "<table border=\"1\" class=\"dataframe\">\n",
       "  <thead>\n",
       "    <tr style=\"text-align: right;\">\n",
       "      <th></th>\n",
       "      <th>claim_amount</th>\n",
       "    </tr>\n",
       "    <tr>\n",
       "      <th>Segment</th>\n",
       "      <th></th>\n",
       "    </tr>\n",
       "  </thead>\n",
       "  <tbody>\n",
       "    <tr>\n",
       "      <th>Gold</th>\n",
       "      <td>12845.0</td>\n",
       "    </tr>\n",
       "    <tr>\n",
       "      <th>Platinum</th>\n",
       "      <td>12373.0</td>\n",
       "    </tr>\n",
       "    <tr>\n",
       "      <th>Silver</th>\n",
       "      <td>12269.0</td>\n",
       "    </tr>\n",
       "  </tbody>\n",
       "</table>\n",
       "</div>"
      ],
      "text/plain": [
       "          claim_amount\n",
       "Segment               \n",
       "Gold           12845.0\n",
       "Platinum       12373.0\n",
       "Silver         12269.0"
      ]
     },
     "execution_count": 246,
     "metadata": {},
     "output_type": "execute_result"
    }
   ],
   "source": [
    "# 8. What is the average amount claimed by the customers from various segments?\n",
    "\n",
    "round(cust_claims.groupby('Segment')[['claim_amount']].mean())"
   ]
  },
  {
   "cell_type": "code",
   "execution_count": 247,
   "id": "d3b77988",
   "metadata": {},
   "outputs": [
    {
     "data": {
      "text/html": [
       "<div>\n",
       "<style scoped>\n",
       "    .dataframe tbody tr th:only-of-type {\n",
       "        vertical-align: middle;\n",
       "    }\n",
       "\n",
       "    .dataframe tbody tr th {\n",
       "        vertical-align: top;\n",
       "    }\n",
       "\n",
       "    .dataframe thead th {\n",
       "        text-align: right;\n",
       "    }\n",
       "</style>\n",
       "<table border=\"1\" class=\"dataframe\">\n",
       "  <thead>\n",
       "    <tr style=\"text-align: right;\">\n",
       "      <th></th>\n",
       "      <th>total_claim_amount</th>\n",
       "    </tr>\n",
       "    <tr>\n",
       "      <th>incident_cause</th>\n",
       "      <th></th>\n",
       "    </tr>\n",
       "  </thead>\n",
       "  <tbody>\n",
       "    <tr>\n",
       "      <th>Crime</th>\n",
       "      <td>400698.0</td>\n",
       "    </tr>\n",
       "    <tr>\n",
       "      <th>Driver error</th>\n",
       "      <td>1915569.0</td>\n",
       "    </tr>\n",
       "    <tr>\n",
       "      <th>Natural causes</th>\n",
       "      <td>713438.0</td>\n",
       "    </tr>\n",
       "    <tr>\n",
       "      <th>Other causes</th>\n",
       "      <td>2249834.0</td>\n",
       "    </tr>\n",
       "    <tr>\n",
       "      <th>Other driver error</th>\n",
       "      <td>1769384.0</td>\n",
       "    </tr>\n",
       "  </tbody>\n",
       "</table>\n",
       "</div>"
      ],
      "text/plain": [
       "                    total_claim_amount\n",
       "incident_cause                        \n",
       "Crime                         400698.0\n",
       "Driver error                 1915569.0\n",
       "Natural causes                713438.0\n",
       "Other causes                 2249834.0\n",
       "Other driver error           1769384.0"
      ]
     },
     "execution_count": 247,
     "metadata": {},
     "output_type": "execute_result"
    }
   ],
   "source": [
    "# 9. What is the total claim amount based on incident cause for all the claims\n",
    "# that have been done at least 20 days prior to 1st of October, 2018.\n",
    "\n",
    "cust_claims.loc[cust_claims.claim_date < (pd.to_datetime('2018-01-10')-dt.timedelta(days=20)),:].groupby('incident_cause')[['claim_amount']].sum().add_prefix(\"total_\").round()"
   ]
  },
  {
   "cell_type": "code",
   "execution_count": 248,
   "id": "6ce30b79",
   "metadata": {},
   "outputs": [
    {
     "data": {
      "text/plain": [
       "27"
      ]
     },
     "execution_count": 248,
     "metadata": {},
     "output_type": "execute_result"
    }
   ],
   "source": [
    "# 10. How many adults from TX, DE and AK claimed insurance for driver related issues and causes?\n",
    "\n",
    "cust_claims[(cust_claims.age_cat=='Adult') & \n",
    "            (cust_claims.State.isin (['TX','DE','AK'])) &\n",
    "             (cust_claims.incident_cause.str.contains('driver' , case=False)  )].shape[0]"
   ]
  },
  {
   "cell_type": "code",
   "execution_count": 118,
   "id": "8b14dd1d",
   "metadata": {},
   "outputs": [],
   "source": [
    "# 11. Draw a pie chart between the aggregated value of claim amount based\n",
    "# on gender and segment. Represent the claim amount as a percentage on the pie chart."
   ]
  },
  {
   "cell_type": "code",
   "execution_count": 249,
   "id": "dd5e9a13",
   "metadata": {},
   "outputs": [
    {
     "data": {
      "text/html": [
       "<div>\n",
       "<style scoped>\n",
       "    .dataframe tbody tr th:only-of-type {\n",
       "        vertical-align: middle;\n",
       "    }\n",
       "\n",
       "    .dataframe tbody tr th {\n",
       "        vertical-align: top;\n",
       "    }\n",
       "\n",
       "    .dataframe thead th {\n",
       "        text-align: right;\n",
       "    }\n",
       "</style>\n",
       "<table border=\"1\" class=\"dataframe\">\n",
       "  <thead>\n",
       "    <tr style=\"text-align: right;\">\n",
       "      <th>gender</th>\n",
       "      <th>Female</th>\n",
       "      <th>Male</th>\n",
       "    </tr>\n",
       "    <tr>\n",
       "      <th>Segment</th>\n",
       "      <th></th>\n",
       "      <th></th>\n",
       "    </tr>\n",
       "  </thead>\n",
       "  <tbody>\n",
       "    <tr>\n",
       "      <th>Gold</th>\n",
       "      <td>15.648228</td>\n",
       "      <td>19.580832</td>\n",
       "    </tr>\n",
       "    <tr>\n",
       "      <th>Platinum</th>\n",
       "      <td>17.562677</td>\n",
       "      <td>15.640137</td>\n",
       "    </tr>\n",
       "    <tr>\n",
       "      <th>Silver</th>\n",
       "      <td>14.264153</td>\n",
       "      <td>17.303972</td>\n",
       "    </tr>\n",
       "  </tbody>\n",
       "</table>\n",
       "</div>"
      ],
      "text/plain": [
       "gender       Female       Male\n",
       "Segment                       \n",
       "Gold      15.648228  19.580832\n",
       "Platinum  17.562677  15.640137\n",
       "Silver    14.264153  17.303972"
      ]
     },
     "execution_count": 249,
     "metadata": {},
     "output_type": "execute_result"
    }
   ],
   "source": [
    "claim_by_gender_segment=cust_claims.groupby(['gender','Segment'])[['claim_amount']].sum()/(cust_claims['claim_amount'].sum().round())*100\n",
    "claim_by_gender_segment_pie=claim_by_gender_segment.reset_index()\n",
    "gender_segment_pie= claim_by_gender_segment_pie.pivot(index = \"Segment\", columns = \"gender\", values = \"claim_amount\")\n",
    "gender_segment_pie"
   ]
  },
  {
   "cell_type": "code",
   "execution_count": 250,
   "id": "9566a7fb",
   "metadata": {},
   "outputs": [
    {
     "data": {
      "image/png": "[encoded data removed]",
      "text/plain": [
       "<Figure size 1080x720 with 3 Axes>"
      ]
     },
     "metadata": {},
     "output_type": "display_data"
    }
   ],
   "source": [
    "gender_segment_pie.T.plot(kind = \"pie\",subplots=True,figsize=(15,10),legend=True,fontsize=15,autopct='%1.2f%%')\n",
    "plt.legend( loc='lower right' )\n",
    "plt.show()"
   ]
  },
  {
   "cell_type": "code",
   "execution_count": null,
   "id": "66139b08",
   "metadata": {},
   "outputs": [],
   "source": []
  },
  {
   "cell_type": "code",
   "execution_count": 251,
   "id": "162d0367",
   "metadata": {},
   "outputs": [
    {
     "data": {
      "text/html": [
       "<div>\n",
       "<style scoped>\n",
       "    .dataframe tbody tr th:only-of-type {\n",
       "        vertical-align: middle;\n",
       "    }\n",
       "\n",
       "    .dataframe tbody tr th {\n",
       "        vertical-align: top;\n",
       "    }\n",
       "\n",
       "    .dataframe thead th {\n",
       "        text-align: right;\n",
       "    }\n",
       "</style>\n",
       "<table border=\"1\" class=\"dataframe\">\n",
       "  <thead>\n",
       "    <tr style=\"text-align: right;\">\n",
       "      <th></th>\n",
       "      <th>gender</th>\n",
       "      <th>claim_amount</th>\n",
       "    </tr>\n",
       "  </thead>\n",
       "  <tbody>\n",
       "    <tr>\n",
       "      <th>0</th>\n",
       "      <td>Female</td>\n",
       "      <td>3136715.00</td>\n",
       "    </tr>\n",
       "    <tr>\n",
       "      <th>1</th>\n",
       "      <td>Male</td>\n",
       "      <td>3975407.75</td>\n",
       "    </tr>\n",
       "  </tbody>\n",
       "</table>\n",
       "</div>"
      ],
      "text/plain": [
       "   gender  claim_amount\n",
       "0  Female    3136715.00\n",
       "1    Male    3975407.75"
      ]
     },
     "execution_count": 251,
     "metadata": {},
     "output_type": "execute_result"
    }
   ],
   "source": [
    "# 12. Among males and females, which gender had claimed the most for any type of driver related issues?\n",
    "# E.g. This metric can be compared using a bar chart\n",
    "\n",
    "\n",
    "males_vs_females =cust_claims[(cust_claims.incident_cause.str.contains ('driver',case = False))].groupby('gender')[['claim_amount']].sum().reset_index()\n",
    "males_vs_females"
   ]
  },
  {
   "cell_type": "code",
   "execution_count": 252,
   "id": "8f92f6b1",
   "metadata": {},
   "outputs": [
    {
     "data": {
      "image/png": "[encoded data removed]",
      "text/plain": [
       "<Figure size 432x288 with 1 Axes>"
      ]
     },
     "metadata": {
      "needs_background": "light"
     },
     "output_type": "display_data"
    }
   ],
   "source": [
    "sns.barplot(x='gender',y='claim_amount',data=males_vs_females)\n",
    "plt.show()"
   ]
  },
  {
   "cell_type": "code",
   "execution_count": 253,
   "id": "d7035c6e",
   "metadata": {},
   "outputs": [
    {
     "data": {
      "image/png": "[encoded data removed]",
      "text/plain": [
       "<Figure size 432x288 with 1 Axes>"
      ]
     },
     "metadata": {
      "needs_background": "light"
     },
     "output_type": "display_data"
    }
   ],
   "source": [
    "# 13. Which age group had the maximum fraudulent policy claims? Visualize it on a bar chart.\n",
    "age_grp_fraud=cust_claims[cust_claims.fraudulent=='Yes'].groupby('age_cat').count()[['fraudulent']].reset_index()\n",
    "sns.barplot(x='age_cat',y='fraudulent',data=age_grp_fraud)\n",
    "plt.show()"
   ]
  },
  {
   "cell_type": "code",
   "execution_count": 259,
   "id": "a3fc667a",
   "metadata": {},
   "outputs": [
    {
     "data": {
      "text/html": [
       "<div>\n",
       "<style scoped>\n",
       "    .dataframe tbody tr th:only-of-type {\n",
       "        vertical-align: middle;\n",
       "    }\n",
       "\n",
       "    .dataframe tbody tr th {\n",
       "        vertical-align: top;\n",
       "    }\n",
       "\n",
       "    .dataframe thead th {\n",
       "        text-align: right;\n",
       "    }\n",
       "</style>\n",
       "<table border=\"1\" class=\"dataframe\">\n",
       "  <thead>\n",
       "    <tr style=\"text-align: right;\">\n",
       "      <th></th>\n",
       "      <th>claim_month</th>\n",
       "      <th>claim_amount</th>\n",
       "    </tr>\n",
       "  </thead>\n",
       "  <tbody>\n",
       "    <tr>\n",
       "      <th>0</th>\n",
       "      <td>January</td>\n",
       "      <td>1327169.0</td>\n",
       "    </tr>\n",
       "    <tr>\n",
       "      <th>1</th>\n",
       "      <td>February</td>\n",
       "      <td>1164542.0</td>\n",
       "    </tr>\n",
       "    <tr>\n",
       "      <th>2</th>\n",
       "      <td>March</td>\n",
       "      <td>1320249.0</td>\n",
       "    </tr>\n",
       "    <tr>\n",
       "      <th>3</th>\n",
       "      <td>April</td>\n",
       "      <td>1293954.0</td>\n",
       "    </tr>\n",
       "    <tr>\n",
       "      <th>4</th>\n",
       "      <td>May</td>\n",
       "      <td>1114460.0</td>\n",
       "    </tr>\n",
       "    <tr>\n",
       "      <th>5</th>\n",
       "      <td>June</td>\n",
       "      <td>1277349.0</td>\n",
       "    </tr>\n",
       "    <tr>\n",
       "      <th>6</th>\n",
       "      <td>July</td>\n",
       "      <td>1379314.0</td>\n",
       "    </tr>\n",
       "    <tr>\n",
       "      <th>7</th>\n",
       "      <td>August</td>\n",
       "      <td>911296.0</td>\n",
       "    </tr>\n",
       "    <tr>\n",
       "      <th>8</th>\n",
       "      <td>September</td>\n",
       "      <td>983198.0</td>\n",
       "    </tr>\n",
       "    <tr>\n",
       "      <th>9</th>\n",
       "      <td>October</td>\n",
       "      <td>1409637.0</td>\n",
       "    </tr>\n",
       "    <tr>\n",
       "      <th>10</th>\n",
       "      <td>November</td>\n",
       "      <td>601187.0</td>\n",
       "    </tr>\n",
       "    <tr>\n",
       "      <th>11</th>\n",
       "      <td>December</td>\n",
       "      <td>694252.0</td>\n",
       "    </tr>\n",
       "  </tbody>\n",
       "</table>\n",
       "</div>"
      ],
      "text/plain": [
       "   claim_month  claim_amount\n",
       "0      January     1327169.0\n",
       "1     February     1164542.0\n",
       "2        March     1320249.0\n",
       "3        April     1293954.0\n",
       "4          May     1114460.0\n",
       "5         June     1277349.0\n",
       "6         July     1379314.0\n",
       "7       August      911296.0\n",
       "8    September      983198.0\n",
       "9      October     1409637.0\n",
       "10    November      601187.0\n",
       "11    December      694252.0"
      ]
     },
     "execution_count": 259,
     "metadata": {},
     "output_type": "execute_result"
    }
   ],
   "source": [
    "# 14. Visualize the monthly trend of the total amount that has been claimed by the customers. \n",
    "# Ensure that on the “month” axis, the month is in a chronological order not alphabetical order.\n",
    "\n",
    "# add month column in the dataframe\n",
    "cust_claims['claim_month']=cust_claims['claim_date'].dropna().apply(lambda x: pd.Timestamp.strftime(x,format=\"%B\"))\n",
    "\n",
    "# get the total amount claimed by month\n",
    "claim_by_month=cust_claims.groupby('claim_month')[['claim_amount']].sum().reset_index().round()\n",
    "claim_by_month\n",
    "\n",
    "# # set the mont to chronological order\n",
    "sort_ref= ['January','February','March','April','May','June','July','August','September','October','November','December']\n",
    "claim_by_month.index= pd.CategoricalIndex(claim_by_month['claim_month'],categories=sort_ref, ordered=True)\n",
    "claim_by_month=claim_by_month.sort_index().reset_index(drop=True)\n",
    "claim_by_month"
   ]
  },
  {
   "cell_type": "code",
   "execution_count": 262,
   "id": "1650cb4b",
   "metadata": {},
   "outputs": [
    {
     "data": {
      "image/png": "[encoded data removed]",
      "text/plain": [
       "<Figure size 1080x360 with 1 Axes>"
      ]
     },
     "metadata": {
      "needs_background": "light"
     },
     "output_type": "display_data"
    }
   ],
   "source": [
    "claim_by_month.plot(kind='bar',x='claim_month',y='claim_amount',figsize=(15,5),fontsize=15,title=\"monthly trend of the total amount that has been claimed by the customers\")\n",
    "plt.xlabel('claim_month',fontsize=15)\n",
    "plt.ylabel('claim_amount',fontsize=15)\n",
    "\n",
    "plt.show()"
   ]
  },
  {
   "cell_type": "code",
   "execution_count": null,
   "id": "c17658e5",
   "metadata": {},
   "outputs": [],
   "source": [
    "# 15 What is the average claim amount for gender and age categories and suitably represent the above\n",
    "# using a facetted bar chart, one facet that represents fraudulent claims and the other for non-fraudulent claims.\n"
   ]
  },
  {
   "cell_type": "code",
   "execution_count": 263,
   "id": "e31d1c90",
   "metadata": {},
   "outputs": [
    {
     "data": {
      "text/html": [
       "<div>\n",
       "<style scoped>\n",
       "    .dataframe tbody tr th:only-of-type {\n",
       "        vertical-align: middle;\n",
       "    }\n",
       "\n",
       "    .dataframe tbody tr th {\n",
       "        vertical-align: top;\n",
       "    }\n",
       "\n",
       "    .dataframe thead th {\n",
       "        text-align: right;\n",
       "    }\n",
       "</style>\n",
       "<table border=\"1\" class=\"dataframe\">\n",
       "  <thead>\n",
       "    <tr style=\"text-align: right;\">\n",
       "      <th></th>\n",
       "      <th>gender</th>\n",
       "      <th>age_cat</th>\n",
       "      <th>fraudulent</th>\n",
       "      <th>claim_amount</th>\n",
       "    </tr>\n",
       "  </thead>\n",
       "  <tbody>\n",
       "    <tr>\n",
       "      <th>0</th>\n",
       "      <td>Female</td>\n",
       "      <td>Adult</td>\n",
       "      <td>No</td>\n",
       "      <td>12127.0</td>\n",
       "    </tr>\n",
       "    <tr>\n",
       "      <th>1</th>\n",
       "      <td>Female</td>\n",
       "      <td>Adult</td>\n",
       "      <td>Yes</td>\n",
       "      <td>12200.0</td>\n",
       "    </tr>\n",
       "    <tr>\n",
       "      <th>2</th>\n",
       "      <td>Female</td>\n",
       "      <td>Senior</td>\n",
       "      <td>No</td>\n",
       "      <td>13783.0</td>\n",
       "    </tr>\n",
       "    <tr>\n",
       "      <th>3</th>\n",
       "      <td>Female</td>\n",
       "      <td>Senior</td>\n",
       "      <td>Yes</td>\n",
       "      <td>4388.0</td>\n",
       "    </tr>\n",
       "    <tr>\n",
       "      <th>4</th>\n",
       "      <td>Female</td>\n",
       "      <td>Youth</td>\n",
       "      <td>No</td>\n",
       "      <td>13166.0</td>\n",
       "    </tr>\n",
       "    <tr>\n",
       "      <th>5</th>\n",
       "      <td>Female</td>\n",
       "      <td>Youth</td>\n",
       "      <td>Yes</td>\n",
       "      <td>9220.0</td>\n",
       "    </tr>\n",
       "    <tr>\n",
       "      <th>6</th>\n",
       "      <td>Male</td>\n",
       "      <td>Adult</td>\n",
       "      <td>No</td>\n",
       "      <td>12307.0</td>\n",
       "    </tr>\n",
       "    <tr>\n",
       "      <th>7</th>\n",
       "      <td>Male</td>\n",
       "      <td>Adult</td>\n",
       "      <td>Yes</td>\n",
       "      <td>15747.0</td>\n",
       "    </tr>\n",
       "    <tr>\n",
       "      <th>8</th>\n",
       "      <td>Male</td>\n",
       "      <td>Senior</td>\n",
       "      <td>No</td>\n",
       "      <td>13766.0</td>\n",
       "    </tr>\n",
       "    <tr>\n",
       "      <th>9</th>\n",
       "      <td>Male</td>\n",
       "      <td>Senior</td>\n",
       "      <td>Yes</td>\n",
       "      <td>28232.0</td>\n",
       "    </tr>\n",
       "    <tr>\n",
       "      <th>10</th>\n",
       "      <td>Male</td>\n",
       "      <td>Youth</td>\n",
       "      <td>No</td>\n",
       "      <td>12094.0</td>\n",
       "    </tr>\n",
       "    <tr>\n",
       "      <th>11</th>\n",
       "      <td>Male</td>\n",
       "      <td>Youth</td>\n",
       "      <td>Yes</td>\n",
       "      <td>7800.0</td>\n",
       "    </tr>\n",
       "  </tbody>\n",
       "</table>\n",
       "</div>"
      ],
      "text/plain": [
       "    gender age_cat fraudulent  claim_amount\n",
       "0   Female   Adult         No       12127.0\n",
       "1   Female   Adult        Yes       12200.0\n",
       "2   Female  Senior         No       13783.0\n",
       "3   Female  Senior        Yes        4388.0\n",
       "4   Female   Youth         No       13166.0\n",
       "5   Female   Youth        Yes        9220.0\n",
       "6     Male   Adult         No       12307.0\n",
       "7     Male   Adult        Yes       15747.0\n",
       "8     Male  Senior         No       13766.0\n",
       "9     Male  Senior        Yes       28232.0\n",
       "10    Male   Youth         No       12094.0\n",
       "11    Male   Youth        Yes        7800.0"
      ]
     },
     "execution_count": 263,
     "metadata": {},
     "output_type": "execute_result"
    }
   ],
   "source": [
    "avg_claim_by_gender_age=cust_claims.groupby(['gender','age_cat','fraudulent'])[['claim_amount']].mean().reset_index().round()\n",
    "avg_claim_by_gender_age"
   ]
  },
  {
   "cell_type": "code",
   "execution_count": 264,
   "id": "6b0010d4",
   "metadata": {},
   "outputs": [
    {
     "data": {
      "text/plain": [
       "<seaborn.axisgrid.FacetGrid at 0x7f9be67c7af0>"
      ]
     },
     "execution_count": 264,
     "metadata": {},
     "output_type": "execute_result"
    },
    {
     "data": {
      "image/png": "[encoded data removed]",
      "text/plain": [
       "<Figure size 432x432 with 4 Axes>"
      ]
     },
     "metadata": {
      "needs_background": "light"
     },
     "output_type": "display_data"
    }
   ],
   "source": [
    "g = sns.FacetGrid(avg_claim_by_gender_age, row=\"fraudulent\", col=\"gender\")\n",
    "g.map_dataframe(sns.barplot, \"claim_amount\",\"age_cat\")"
   ]
  },
  {
   "cell_type": "code",
   "execution_count": 265,
   "id": "466aaf3f",
   "metadata": {},
   "outputs": [
    {
     "data": {
      "image/png": "[encoded data removed]",
      "text/plain": [
       "<Figure size 720x720 with 2 Axes>"
      ]
     },
     "metadata": {
      "needs_background": "light"
     },
     "output_type": "display_data"
    }
   ],
   "source": [
    "Frauds_amount_gender= pd.DataFrame(cust_claims.loc[(cust_claims.fraudulent==\"Yes\")].groupby([\"gender\",\"age_cat\"])[[\"claim_amount\"]].mean().add_prefix(\"Fraud_\"))\n",
    "\n",
    "Non_Frauds_amount_gender=pd.DataFrame(cust_claims.loc[(cust_claims.fraudulent==\"No\")].groupby([\"gender\",\"age_cat\"])[[\"claim_amount\"]].mean().add_prefix(\"Non_Fraud_\"))\n",
    "\n",
    "Claims_age_gender=round(pd.merge(Frauds_amount_gender,Non_Frauds_amount_gender, on=[\"gender\",\"age_cat\"]),2)\n",
    "\n",
    "Claims_age_gender\n",
    "\n",
    "Claims_age_gender.plot(kind=\"bar\", subplots= True, legend= True,figsize=(10,10))\n",
    "plt.show()"
   ]
  },
  {
   "cell_type": "markdown",
   "id": "e941f556",
   "metadata": {},
   "source": [
    "# 16. Is there any similarity in the amount claimed by males and females?\n",
    "\n",
    "\n",
    "### State the Null hypothesis and Alternate hypothesis\n",
    "#### Ho=There is similarity in the amount claimed by males and females (u1=u2)\n",
    "#### Ha=there is no similarity in the amount claimed by males and females (u1<>u2)\n",
    "\n",
    "## set the confidance interval\n",
    "#### CI=95%\n",
    "\n",
    "## set the level of siginificance\n",
    "\n",
    "#### P-Value=0.05"
   ]
  },
  {
   "cell_type": "markdown",
   "id": "db805c10",
   "metadata": {},
   "source": [
    "### set the data"
   ]
  },
  {
   "cell_type": "code",
   "execution_count": 266,
   "id": "729158d6",
   "metadata": {},
   "outputs": [
    {
     "data": {
      "text/plain": [
       "1       39192.0\n",
       "2        1621.5\n",
       "3       37040.0\n",
       "5        2630.0\n",
       "6        2920.0\n",
       "         ...   \n",
       "1074     2370.0\n",
       "1079     2260.0\n",
       "1080    21480.0\n",
       "1083     2415.0\n",
       "1084     2310.0\n",
       "Name: claim_amount, Length: 553, dtype: float32"
      ]
     },
     "execution_count": 266,
     "metadata": {},
     "output_type": "execute_result"
    }
   ],
   "source": [
    "\n",
    "claim_male=cust_claims[cust_claims.gender=='Male']['claim_amount']\n",
    "claim_male"
   ]
  },
  {
   "cell_type": "code",
   "execution_count": 267,
   "id": "39db2be8",
   "metadata": {},
   "outputs": [
    {
     "data": {
      "text/plain": [
       "0       12501.492188\n",
       "4       35250.000000\n",
       "7       21190.000000\n",
       "9        2507.000000\n",
       "10      25010.000000\n",
       "            ...     \n",
       "1076    20033.000000\n",
       "1077     3139.500000\n",
       "1078     1495.000000\n",
       "1081    14360.000000\n",
       "1082     1242.000000\n",
       "Name: claim_amount, Length: 532, dtype: float32"
      ]
     },
     "execution_count": 267,
     "metadata": {},
     "output_type": "execute_result"
    }
   ],
   "source": [
    "claim_female=cust_claims[cust_claims.gender=='Female']['claim_amount']\n",
    "claim_female"
   ]
  },
  {
   "cell_type": "markdown",
   "id": "978f43e3",
   "metadata": {},
   "source": [
    "## These are independent samples. Thus , we need to perform the two tail t-test for independed sample "
   ]
  },
  {
   "cell_type": "code",
   "execution_count": 268,
   "id": "8baa1012",
   "metadata": {},
   "outputs": [
    {
     "name": "stdout",
     "output_type": "stream",
     "text": [
      "The average amount claimed by males is 12883.4443359375\n",
      "The average amount claimed by females is 12104.4599609375\n"
     ]
    }
   ],
   "source": [
    "print(\"The average amount claimed by males is {}\".format(claim_male.mean()))\n",
    "print(\"The average amount claimed by females is {}\".format(claim_female.mean()))"
   ]
  },
  {
   "cell_type": "code",
   "execution_count": 269,
   "id": "adb11521",
   "metadata": {},
   "outputs": [],
   "source": [
    "import scipy.stats as stats"
   ]
  },
  {
   "cell_type": "markdown",
   "id": "cabb0ca4",
   "metadata": {},
   "source": [
    "### Compute the test statitics"
   ]
  },
  {
   "cell_type": "code",
   "execution_count": 270,
   "id": "0d52505b",
   "metadata": {},
   "outputs": [
    {
     "data": {
      "text/plain": [
       "Ttest_indResult(statistic=0.962997808429227, pvalue=0.3357635884274691)"
      ]
     },
     "execution_count": 270,
     "metadata": {},
     "output_type": "execute_result"
    }
   ],
   "source": [
    "var_stat=stats.ttest_ind(claim_male,claim_female)\n",
    "var_stat"
   ]
  },
  {
   "cell_type": "markdown",
   "id": "f74585bb",
   "metadata": {},
   "source": [
    "### compare the critical value with the test statatics value "
   ]
  },
  {
   "cell_type": "code",
   "execution_count": 271,
   "id": "4f8bcf00",
   "metadata": {},
   "outputs": [
    {
     "name": "stdout",
     "output_type": "stream",
     "text": [
      "We fail to reject null hypothesis\n"
     ]
    }
   ],
   "source": [
    "p=var_stat.pvalue\n",
    "if(p<0.05):\n",
    "    print('We reject null hypothesis')\n",
    "else:\n",
    "    print('We fail to reject null hypothesis')"
   ]
  },
  {
   "cell_type": "markdown",
   "id": "53c34efb",
   "metadata": {},
   "source": [
    "### Business outcome : There is similarity in usege of male and female "
   ]
  },
  {
   "cell_type": "markdown",
   "id": "b53d24ae",
   "metadata": {},
   "source": [
    "# 17. Is there any relationship between age category and segment?\n",
    "\n",
    "### step 1 : \n",
    "\n",
    "#### Ho = there is NO relationship between the age and segment. (u1=u2)\n",
    "\n",
    "#### Ha = There is relationship between age category and segment.(u1<>u2)\n",
    "\n",
    "### Step 2: \n",
    " ### set the confidance interval\n",
    "#### CI =95%\n",
    "\n",
    "#### set the level of significance \n",
    "#### p=0.05\n",
    "     \n",
    "## Step 3:     \n",
    "### Set the data     "
   ]
  },
  {
   "cell_type": "code",
   "execution_count": 272,
   "id": "dae99fd0",
   "metadata": {},
   "outputs": [
    {
     "data": {
      "text/html": [
       "<div>\n",
       "<style scoped>\n",
       "    .dataframe tbody tr th:only-of-type {\n",
       "        vertical-align: middle;\n",
       "    }\n",
       "\n",
       "    .dataframe tbody tr th {\n",
       "        vertical-align: top;\n",
       "    }\n",
       "\n",
       "    .dataframe thead th {\n",
       "        text-align: right;\n",
       "    }\n",
       "</style>\n",
       "<table border=\"1\" class=\"dataframe\">\n",
       "  <thead>\n",
       "    <tr style=\"text-align: right;\">\n",
       "      <th>age_cat</th>\n",
       "      <th>Adult</th>\n",
       "      <th>Senior</th>\n",
       "      <th>Youth</th>\n",
       "    </tr>\n",
       "    <tr>\n",
       "      <th>Segment</th>\n",
       "      <th></th>\n",
       "      <th></th>\n",
       "      <th></th>\n",
       "    </tr>\n",
       "  </thead>\n",
       "  <tbody>\n",
       "    <tr>\n",
       "      <th>Gold</th>\n",
       "      <td>286</td>\n",
       "      <td>15</td>\n",
       "      <td>71</td>\n",
       "    </tr>\n",
       "    <tr>\n",
       "      <th>Platinum</th>\n",
       "      <td>277</td>\n",
       "      <td>17</td>\n",
       "      <td>70</td>\n",
       "    </tr>\n",
       "    <tr>\n",
       "      <th>Silver</th>\n",
       "      <td>263</td>\n",
       "      <td>17</td>\n",
       "      <td>69</td>\n",
       "    </tr>\n",
       "  </tbody>\n",
       "</table>\n",
       "</div>"
      ],
      "text/plain": [
       "age_cat   Adult  Senior  Youth\n",
       "Segment                       \n",
       "Gold        286      15     71\n",
       "Platinum    277      17     70\n",
       "Silver      263      17     69"
      ]
     },
     "execution_count": 272,
     "metadata": {},
     "output_type": "execute_result"
    }
   ],
   "source": [
    "observed = pd.crosstab (index=cust_claims.Segment , columns=cust_claims.age_cat)\n",
    "observed"
   ]
  },
  {
   "cell_type": "markdown",
   "id": "9f481e56",
   "metadata": {},
   "source": [
    "## Step 4: Perform the test\n",
    "### Segment and age category are two categorical varible. thus , we will perform the chi-square test."
   ]
  },
  {
   "cell_type": "code",
   "execution_count": 273,
   "id": "5739332c",
   "metadata": {},
   "outputs": [
    {
     "data": {
      "text/plain": [
       "(0.41232223162261983,\n",
       " 0.981455670607777,\n",
       " 4,\n",
       " array([[283.2       ,  16.8       ,  72.        ],\n",
       "        [277.10967742,  16.43870968,  70.4516129 ],\n",
       "        [265.69032258,  15.76129032,  67.5483871 ]]))"
      ]
     },
     "execution_count": 273,
     "metadata": {},
     "output_type": "execute_result"
    }
   ],
   "source": [
    "stats.chi2_contingency(observed)"
   ]
  },
  {
   "cell_type": "markdown",
   "id": "3398a1b3",
   "metadata": {},
   "source": [
    "### P value is greater than the .05. Thus, we fail to reject the null hypothsis.\n",
    "\n",
    "### There is NO relationship between segment and age category"
   ]
  },
  {
   "cell_type": "markdown",
   "id": "3f1c8245",
   "metadata": {},
   "source": [
    "# 18. The current year has shown a significant rise in claim amounts as compared to 2016-17 fiscal average which was $10,000."
   ]
  },
  {
   "cell_type": "markdown",
   "id": "3e5a5a52",
   "metadata": {},
   "source": [
    "### Step 1\n",
    "#### Ho : there is NO significant rise in the claim amount.\n",
    "#### Ha : there is  siginciant rise in the claim amount.\n",
    "### Step 2 : CI = 95% \n",
    "###          P- Value =0.05%\n"
   ]
  },
  {
   "cell_type": "markdown",
   "id": "faac32e4",
   "metadata": {},
   "source": [
    "### step 3 : set the data "
   ]
  },
  {
   "cell_type": "code",
   "execution_count": 283,
   "id": "5af13408",
   "metadata": {},
   "outputs": [],
   "source": [
    "# Create Year column\n",
    "cust_claims['claim_year']=cust_claims['claim_date'].dt.year\n",
    "\n",
    "cust_claims['claim_year']=cust_claims['claim_year'].astype('Int64')"
   ]
  },
  {
   "cell_type": "code",
   "execution_count": 293,
   "id": "e4cc0efc",
   "metadata": {},
   "outputs": [
    {
     "data": {
      "text/plain": [
       "2018"
      ]
     },
     "execution_count": 293,
     "metadata": {},
     "output_type": "execute_result"
    }
   ],
   "source": [
    "# Get the current year (latest) from the data\n",
    "cust_claims.claim_year.max()"
   ]
  },
  {
   "cell_type": "code",
   "execution_count": 301,
   "id": "4f80c5e1",
   "metadata": {},
   "outputs": [
    {
     "data": {
      "text/html": [
       "<div>\n",
       "<style scoped>\n",
       "    .dataframe tbody tr th:only-of-type {\n",
       "        vertical-align: middle;\n",
       "    }\n",
       "\n",
       "    .dataframe tbody tr th {\n",
       "        vertical-align: top;\n",
       "    }\n",
       "\n",
       "    .dataframe thead th {\n",
       "        text-align: right;\n",
       "    }\n",
       "</style>\n",
       "<table border=\"1\" class=\"dataframe\">\n",
       "  <thead>\n",
       "    <tr style=\"text-align: right;\">\n",
       "      <th></th>\n",
       "      <th>claim_amount</th>\n",
       "    </tr>\n",
       "  </thead>\n",
       "  <tbody>\n",
       "    <tr>\n",
       "      <th>0</th>\n",
       "      <td>12501.492188</td>\n",
       "    </tr>\n",
       "    <tr>\n",
       "      <th>1</th>\n",
       "      <td>39192.000000</td>\n",
       "    </tr>\n",
       "    <tr>\n",
       "      <th>3</th>\n",
       "      <td>37040.000000</td>\n",
       "    </tr>\n",
       "    <tr>\n",
       "      <th>4</th>\n",
       "      <td>35250.000000</td>\n",
       "    </tr>\n",
       "    <tr>\n",
       "      <th>5</th>\n",
       "      <td>2630.000000</td>\n",
       "    </tr>\n",
       "    <tr>\n",
       "      <th>...</th>\n",
       "      <td>...</td>\n",
       "    </tr>\n",
       "    <tr>\n",
       "      <th>1078</th>\n",
       "      <td>1495.000000</td>\n",
       "    </tr>\n",
       "    <tr>\n",
       "      <th>1080</th>\n",
       "      <td>21480.000000</td>\n",
       "    </tr>\n",
       "    <tr>\n",
       "      <th>1081</th>\n",
       "      <td>14360.000000</td>\n",
       "    </tr>\n",
       "    <tr>\n",
       "      <th>1082</th>\n",
       "      <td>1242.000000</td>\n",
       "    </tr>\n",
       "    <tr>\n",
       "      <th>1084</th>\n",
       "      <td>2310.000000</td>\n",
       "    </tr>\n",
       "  </tbody>\n",
       "</table>\n",
       "<p>484 rows × 1 columns</p>\n",
       "</div>"
      ],
      "text/plain": [
       "      claim_amount\n",
       "0     12501.492188\n",
       "1     39192.000000\n",
       "3     37040.000000\n",
       "4     35250.000000\n",
       "5      2630.000000\n",
       "...            ...\n",
       "1078   1495.000000\n",
       "1080  21480.000000\n",
       "1081  14360.000000\n",
       "1082   1242.000000\n",
       "1084   2310.000000\n",
       "\n",
       "[484 rows x 1 columns]"
      ]
     },
     "execution_count": 301,
     "metadata": {},
     "output_type": "execute_result"
    }
   ],
   "source": [
    "cust_claims[cust_claims.claim_year==2018][['claim_amount']]"
   ]
  },
  {
   "cell_type": "code",
   "execution_count": 327,
   "id": "72fad4d9",
   "metadata": {},
   "outputs": [],
   "source": [
    "current_year_claim=cust_claims.loc[cust_claims.claim_year == 2018][\"claim_amount\"]\n",
    "claim_year_2017=cust_claims.loc[cust_claims.claim_year == 2017][\"claim_amount\"]"
   ]
  },
  {
   "cell_type": "code",
   "execution_count": 329,
   "id": "79a324be",
   "metadata": {},
   "outputs": [
    {
     "data": {
      "text/plain": [
       "0       12501.492188\n",
       "1       39192.000000\n",
       "3       37040.000000\n",
       "4       35250.000000\n",
       "5        2630.000000\n",
       "            ...     \n",
       "1078     1495.000000\n",
       "1080    21480.000000\n",
       "1081    14360.000000\n",
       "1082     1242.000000\n",
       "1084     2310.000000\n",
       "Name: claim_amount, Length: 484, dtype: float32"
      ]
     },
     "execution_count": 329,
     "metadata": {},
     "output_type": "execute_result"
    }
   ],
   "source": [
    "current_year_claim"
   ]
  },
  {
   "cell_type": "code",
   "execution_count": 328,
   "id": "455a5246",
   "metadata": {},
   "outputs": [
    {
     "data": {
      "text/plain": [
       "2        1621.5\n",
       "7       21190.0\n",
       "8        2490.0\n",
       "10      25010.0\n",
       "11      30540.0\n",
       "         ...   \n",
       "1072     1550.0\n",
       "1073     2840.0\n",
       "1074     2370.0\n",
       "1079     2260.0\n",
       "1083     2415.0\n",
       "Name: claim_amount, Length: 594, dtype: float32"
      ]
     },
     "execution_count": 328,
     "metadata": {},
     "output_type": "execute_result"
    }
   ],
   "source": [
    "claim_year_2017"
   ]
  },
  {
   "cell_type": "code",
   "execution_count": 347,
   "id": "e8549c83",
   "metadata": {},
   "outputs": [
    {
     "name": "stdout",
     "output_type": "stream",
     "text": [
      "fiscal average of current  12766\n",
      "fiscal average of year 2016-2017  12286\n"
     ]
    }
   ],
   "source": [
    "print(\"fiscal average of current \" , round(current_year_claim.mean()))\n",
    "print(\"fiscal average of year 2016-2017 \",round(claim_year_2017.mean()))"
   ]
  },
  {
   "cell_type": "markdown",
   "id": "d57247de",
   "metadata": {},
   "source": [
    "### These are independent data set. thus, we will perform the independent T-Test."
   ]
  },
  {
   "cell_type": "code",
   "execution_count": 351,
   "id": "64853385",
   "metadata": {},
   "outputs": [
    {
     "data": {
      "text/plain": [
       "Ttest_indResult(statistic=0.5870960182564192, pvalue=0.557262385034965)"
      ]
     },
     "execution_count": 351,
     "metadata": {},
     "output_type": "execute_result"
    }
   ],
   "source": [
    "check_stats=stats.ttest_ind(current_year_claim,claim_year_2017)\n",
    "check_stats"
   ]
  },
  {
   "cell_type": "code",
   "execution_count": null,
   "id": "676076f5",
   "metadata": {},
   "outputs": [],
   "source": []
  },
  {
   "cell_type": "code",
   "execution_count": 333,
   "id": "fea48179",
   "metadata": {},
   "outputs": [
    {
     "name": "stdout",
     "output_type": "stream",
     "text": [
      "We fail to reject null hypothesis\n"
     ]
    }
   ],
   "source": [
    "p=check_stats.pvalue\n",
    "if(p<0.05):\n",
    "    print('We reject null hypothesis')\n",
    "else:\n",
    "    print('We fail to reject null hypothesis')"
   ]
  },
  {
   "cell_type": "markdown",
   "id": "de4b92bf",
   "metadata": {},
   "source": [
    "#### Thus , There is no significat increase in claim amount in current year as compared to 2016-17."
   ]
  },
  {
   "cell_type": "markdown",
   "id": "db2c9dd3",
   "metadata": {},
   "source": [
    "# 19. Is there any difference between age groups and insurance claims?"
   ]
  },
  {
   "cell_type": "markdown",
   "id": "35d24e5b",
   "metadata": {},
   "source": [
    "#### Ho = There is NO difference between age groups and insurance claims.\n",
    "#### Ha = There is difference between age groups and insurance claims.\n",
    "\n",
    "#### CI=95%\n",
    "\n",
    "#### P-Value =0.05"
   ]
  },
  {
   "cell_type": "code",
   "execution_count": 356,
   "id": "281b06c0",
   "metadata": {},
   "outputs": [
    {
     "data": {
      "text/plain": [
       "array(['Adult', 'Youth', 'Senior'], dtype=object)"
      ]
     },
     "execution_count": 356,
     "metadata": {},
     "output_type": "execute_result"
    }
   ],
   "source": [
    "cust_claims.age_cat.unique()"
   ]
  },
  {
   "cell_type": "code",
   "execution_count": 357,
   "id": "572d6b8b",
   "metadata": {},
   "outputs": [
    {
     "data": {
      "text/plain": [
       "Adult     826\n",
       "Youth     210\n",
       "Senior     49\n",
       "Name: age_cat, dtype: int64"
      ]
     },
     "execution_count": 357,
     "metadata": {},
     "output_type": "execute_result"
    }
   ],
   "source": [
    "cust_claims.age_cat.value_counts()"
   ]
  },
  {
   "cell_type": "code",
   "execution_count": 370,
   "id": "0f9ae2f0",
   "metadata": {},
   "outputs": [],
   "source": [
    "a1=cust_claims.loc[cust_claims.age_cat=='Adult','claim_amount' ]\n",
    "a2=cust_claims.loc[cust_claims.age_cat=='Youth','claim_amount' ]\n",
    "a3=cust_claims.loc[cust_claims.age_cat=='Senior','claim_amount']"
   ]
  },
  {
   "cell_type": "code",
   "execution_count": 377,
   "id": "45646a7d",
   "metadata": {},
   "outputs": [
    {
     "name": "stdout",
     "output_type": "stream",
     "text": [
      "mean of claim amount by adult 12639.546875 | mean of claim amount by Youth 11857.3427734375 | mean of claim amount by Senior 12934.81640625\n"
     ]
    }
   ],
   "source": [
    "print('mean of claim amount by adult' ,a1.mean() ,'| mean of claim amount by Youth' ,a2.mean(),'| mean of claim amount by Senior' ,a3.mean() )"
   ]
  },
  {
   "cell_type": "markdown",
   "id": "e75d1707",
   "metadata": {},
   "source": [
    "###  There are more than two variable. thus , we will perform the ANOVA/f-Test"
   ]
  },
  {
   "cell_type": "code",
   "execution_count": 379,
   "id": "5e0c6c6f",
   "metadata": {},
   "outputs": [
    {
     "data": {
      "text/plain": [
       "F_onewayResult(statistic=0.3154730625737186, pvalue=0.7295107919591701)"
      ]
     },
     "execution_count": 379,
     "metadata": {},
     "output_type": "execute_result"
    }
   ],
   "source": [
    "stats.f_oneway(a1,a2,a3)"
   ]
  },
  {
   "cell_type": "markdown",
   "id": "c85eb63a",
   "metadata": {},
   "source": [
    "### Thus, we failed to reject the Ho.\n",
    "### There is NO difference between age groups and insurance claims.\n"
   ]
  },
  {
   "cell_type": "markdown",
   "id": "c9a40e4e",
   "metadata": {},
   "source": [
    "# 20. Is there any relationship between total number of policy claims and the claimed amount?"
   ]
  },
  {
   "cell_type": "markdown",
   "id": "6f28320b",
   "metadata": {},
   "source": [
    "#### Ho : There is NO relationship between total number of policy claims and the claimed amount.\n",
    "#### Ha : There is  relationship between total number of policy claims and the claimed amount.\n",
    "\n",
    "#### CI=95%\n",
    "#### P- Value = 0.5%\n"
   ]
  },
  {
   "cell_type": "code",
   "execution_count": 401,
   "id": "045ffb3b",
   "metadata": {},
   "outputs": [
    {
     "data": {
      "text/plain": [
       "0       1.0\n",
       "1       1.0\n",
       "2       2.0\n",
       "3       1.0\n",
       "4       3.0\n",
       "       ... \n",
       "1080    1.0\n",
       "1081    1.0\n",
       "1082    1.0\n",
       "1083    2.0\n",
       "1084    1.0\n",
       "Name: total_policy_claims, Length: 1085, dtype: float64"
      ]
     },
     "execution_count": 401,
     "metadata": {},
     "output_type": "execute_result"
    }
   ],
   "source": [
    "cust_claims.total_policy_claims"
   ]
  },
  {
   "cell_type": "code",
   "execution_count": 402,
   "id": "a4215c61",
   "metadata": {},
   "outputs": [
    {
     "data": {
      "text/plain": [
       "0       12501.492188\n",
       "1       39192.000000\n",
       "2        1621.500000\n",
       "3       37040.000000\n",
       "4       35250.000000\n",
       "            ...     \n",
       "1080    21480.000000\n",
       "1081    14360.000000\n",
       "1082     1242.000000\n",
       "1083     2415.000000\n",
       "1084     2310.000000\n",
       "Name: claim_amount, Length: 1085, dtype: float32"
      ]
     },
     "execution_count": 402,
     "metadata": {},
     "output_type": "execute_result"
    }
   ],
   "source": [
    "cust_claims.claim_amount"
   ]
  },
  {
   "cell_type": "code",
   "execution_count": 403,
   "id": "56385cf3",
   "metadata": {},
   "outputs": [
    {
     "data": {
      "text/plain": [
       "(-0.021900561799134775, 0.47112801721288633)"
      ]
     },
     "execution_count": 403,
     "metadata": {},
     "output_type": "execute_result"
    }
   ],
   "source": [
    "stats.pearsonr(cust_claims.total_policy_claims,cust_claims.claim_amount)"
   ]
  },
  {
   "cell_type": "markdown",
   "id": "cbe47753",
   "metadata": {},
   "source": [
    "### Total number of policy claims and the claimed amount are negativaly related.\n",
    "\n",
    "### P-Value is high. thus, we failed to reject the Null hypothesis."
   ]
  },
  {
   "cell_type": "code",
   "execution_count": null,
   "id": "02459390",
   "metadata": {},
   "outputs": [],
   "source": []
  },
  {
   "cell_type": "code",
   "execution_count": null,
   "id": "97342b9c",
   "metadata": {},
   "outputs": [],
   "source": []
  },
  {
   "cell_type": "code",
   "execution_count": null,
   "id": "96dc2181",
   "metadata": {},
   "outputs": [],
   "source": []
  }
 ],
 "metadata": {
  "kernelspec": {
   "display_name": "Python 3 (ipykernel)",
   "language": "python",
   "name": "python3"
  },
  "language_info": {
   "codemirror_mode": {
    "name": "ipython",
    "version": 3
   },
   "file_extension": ".py",
   "mimetype": "text/x-python",
   "name": "python",
   "nbconvert_exporter": "python",
   "pygments_lexer": "ipython3",
   "version": "3.9.7"
  }
 },
 "nbformat": 4,
 "nbformat_minor": 5
}
